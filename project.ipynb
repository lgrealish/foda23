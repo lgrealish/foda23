{
 "cells": [
  {
   "cell_type": "markdown",
   "metadata": {},
   "source": [
    "# Fundaments of Data Analysis Project\n",
    "\n",
    "**Linda Grealish**\n",
    "\n",
    "***"
   ]
  },
  {
   "cell_type": "markdown",
   "metadata": {},
   "source": [
    "# Table of Contents <a id=\"0\"></a>\n",
    "1. [Introduction](#overview)  \n",
    "    - [Problem Statement](#problem-statement)\n",
    "    - [About this notebook and technologies used](#about-this-notebook-and-python-libraries-used)\n",
    "    - [About the Iris dataset](#iris-dataset) \n",
    "2. [Classification of the variables](#numeric-variables)\n",
    "    - [Loading dataset and python libraries](#load-dataset-libraries)\n",
    "    - [Types of variables in the dataset](#types-variables)\n",
    "3. [Summary statistics of the variables](#summary-statistics)<br>\n",
    "4. [Plotting the variables]()\n",
    "    - [Data Visualisation](#data-visualisation)\n",
    "    - [Categorical Variables](#plot-categorical)\n",
    "    - [Numerical Variables](#plot-numerical)\n",
    "    - [Bivariate Analysis](#bivariate-analysis)\n",
    "5. [Resources](#resources)"
   ]
  },
  {
   "cell_type": "markdown",
   "metadata": {},
   "source": [
    "***\n",
    "## 1. Introduction and Project Overview:<a class=\"anchor\" id=\"overview\"></a>\n",
    "\n",
    "This notebook contains my submission for the Fundamentals of Data Analysis Module 2023 module at ATU as part of the Higher Diploma in Computing and Data Analytics.  The topic of the project is research and investigation of Fisher's Iris dataset.\n"
   ]
  },
  {
   "cell_type": "markdown",
   "metadata": {},
   "source": [
    "<a id=\"problem-statement\"></a>\n",
    "### Problem statement:\n",
    "\n",
    "*• The project is to create a notebook investigating the variables and data points within the well-known iris flower data set associated with Ronald A Fisher.*\n",
    "\n",
    "*• In the notebook, you should discuss the classification of each variable within the data set according to common variable types and scales of measurement in mathematics, statistics, and Python.*\n",
    "\n",
    "*• Select, demonstrate, and explain the most appropriate summary statistics to describe each variable.*\n",
    "\n",
    "*• Select, demonstrate, and explain the most appropriate plot(s) for each variable.*\n",
    "\n",
    "*• The notebook should follow a cohesive narrative about the data set.*"
   ]
  },
  {
   "cell_type": "markdown",
   "metadata": {},
   "source": [
    "### About this notebook and python libraries used <a id=\"notebook\"></a>\n",
    "\n",
    "This project was mainly developed using the python and the following packages:\n",
    "\n",
    "- NumPy is one of the most important packages for numerical and scientific computing in Python.\n",
    "- Seaborn is a Python data visualization library for making attractive and informative statistical graphics in Python.\n",
    "- Pandas provides data analysis tools and is designed for working with tabular data that contains an ordered collection of columns where each column can have a different value type. \n",
    "- Matplotlib.pyplot\n"
   ]
  },
  {
   "cell_type": "markdown",
   "metadata": {},
   "source": [
    "<a id=\"iris-dataset\"></a>\n",
    "### The Iris dataset \n",
    "\n",
    "Iris flower data, also known as Fisher's Iris dataset was introduced by British biologist and statistician Sir Ronald Aylmer Fisher. In 1936, Sir Fisher published a report titled [“The Use of Multiple Measurements in Taxonomic Problems”](https://onlinelibrary.wiley.com/doi/epdf/10.1111/j.1469-1809.1936.tb02137.x) in the journal Annals of Eugenics. In this article, Fisher developed and evaluated a linear function to differentiate Iris species based on the morphology of their flowers. It was the first time that the sepal and petal measures of the three Iris species as mentioned above appeared publicly.\n",
    "\n",
    "The *iris* dataset is available in the [seaborn-data repository](https://github.com/mwaskom/seaborn-data) belonging to Michael Waskom - the creator of the [seaborn](https://seaborn.pydata.org/index.html) python data visualisation package.\n",
    "\n",
    "The *iris* dataset illustrates the “tidy” approach to organizing a dataset. [Tidy data](https://en.wikipedia.org/wiki/Tidy_data) is an alternate name for the common statistical form called a model matrix or data matrix which is\n",
    "\n",
    ">A standard method of displaying a multivariate set of data is in the form of a data matrix in which rows correspond to sample individuals and columns to variables, so that the entry in the ith row and jth column gives the value of the jth variate as measured or observed on the ith individual.\n",
    "\n",
    "\n",
    "It is a multivariate data set of 50 samples which the author gathered on each of three species of Irises: setosa, versicolor and virginica. Measurements of 4 properties of 50 flowers of each of the plants were taken, namely Sepal length, Sepal width, Petal Length, and Petal width. The author suggests that the petal and sepal lengths and widths are characteristics which can be used to identify which species they belong to based on a linear discriminant modelLinear discriminant analysis. Fisher himself developed the linear discriminant model, a statistical, machine learning and pattern recognition technique used to distinguish between two or more objects, classes or events. Iris Data set wikipedia Fisher presented the data for the 3 species in a table with each of the four measurements and subsequently, tables of observed means, sums of squares etc. in order to demonstrate how each species can be discriminated from one another.\n"
   ]
  },
  {
   "cell_type": "markdown",
   "metadata": {},
   "source": [
    "<img src = Images/iris-species-image.png alt= \"Iris flower species\">"
   ]
  },
  {
   "cell_type": "markdown",
   "metadata": {},
   "source": [
    "***\n",
    "## 2. Classification of the variables within the dataset<a name=\"classification\"></a>"
   ]
  },
  {
   "cell_type": "markdown",
   "metadata": {},
   "source": [
    "### Loading dataset and python libraries <a id=\"load-dataset-libraries\"></a>"
   ]
  },
  {
   "cell_type": "markdown",
   "metadata": {},
   "source": [
    "\n",
    "The iris dataset is available as described above in csv format (comma separated values) from various sources but for this project I have used the link from the [seaborn-data repository](https://github.com/mwaskom/seaborn-data) at <https://github.com/mwaskom/seaborn-data/blob/master/iris.csv>. Here the csv data is actually displayed nicely to the screen in tabular format - to get a link for the raw csv file click the `raw` icon which dumps the raw csv file to the browser from where you can copy the url <https://raw.githubusercontent.com/mwaskom/seaborn-data/master/iris.csv>.   \n",
    "  \n",
    "Data that is in csv format can be read into a pandas **DataFrame** object either from a csv file or from a URL using the [`read_csv`](https://pandas.pydata.org/pandas-docs/stable/user_guide/io.html#io-read-csv-table) function. A pandas DataFrame is a 2 dimensional data structure with rows and columns that resembles a spreadsheet. A DataFrame can have mixed data types such as numeric, integer, string, boolean etc but each column will have only one data type. "
   ]
  },
  {
   "cell_type": "code",
   "execution_count": null,
   "metadata": {},
   "outputs": [],
   "source": [
    "# Import modules necessary for this task\n",
    "import numpy as np\n",
    "import pandas as pd\n",
    "import matplotlib.pyplot as plt\n",
    "import seaborn as sns"
   ]
  },
  {
   "cell_type": "code",
   "execution_count": null,
   "metadata": {},
   "outputs": [],
   "source": [
    "# Read in the iris dataset from the online source and create a dataframe named df.\n",
    "url = 'https://raw.githubusercontent.com/mwaskom/seaborn-data/master/iris.csv'\n",
    "\n",
    "df = pd.read_csv(url)"
   ]
  },
  {
   "cell_type": "markdown",
   "metadata": {},
   "source": [
    "Now that the csv file has been succesfully read into a pandas dataframe object, , I want to check that the dataframe looks ok.  The pandas df.head() and df.tail() functions are a useful way to check if a csv file has been read in properly, particularly the tail() function as any problems usually appear towards the end of the dataframe, throwing out the last number of rows but all looks well here."
   ]
  },
  {
   "cell_type": "code",
   "execution_count": null,
   "metadata": {},
   "outputs": [],
   "source": [
    "# Look at the top 5 rows of the DataFrame df\n",
    "print(\"The first few rows in the dataset: \\n\\n\", df.head()) \n",
    "\n",
    "# Look at the bottom 5 rows of the DataFrame\n",
    "print('\\n The final few rows in the dataset \\n',df.tail()) "
   ]
  },
  {
   "cell_type": "code",
   "execution_count": null,
   "metadata": {},
   "outputs": [],
   "source": [
    "# Checking for any null values\n",
    "# https://miamioh.edu/centers-institutes/center-for-analytics-data-science/students/coding-tutorials/python/data-cleaning.html#:~:text=in%20the%20data.-,The%20function%20dataframe.,missing%20values%20in%20the%20dataset.\n",
    "df.isnull().sum().sum()"
   ]
  },
  {
   "cell_type": "code",
   "execution_count": null,
   "metadata": {},
   "outputs": [],
   "source": [
    "# Summarise the data types contained in the df\n",
    "\n",
    "print(\"The dtypes in the dataframe are:\", end='\\n\\n')\n",
    "\n",
    "print(df.dtypes) "
   ]
  },
  {
   "cell_type": "markdown",
   "metadata": {},
   "source": [
    "\n",
    "There are four numerical columns and 1 non-numerical object columns. The variables `sepal_length`, `sepal_width`, `petal_length` and `tip` are floats representing measurement in centimetres while `species` is an object representing the species of the iris flower observed. Pandas uses the `object` dtype for storing strings, other arbitary objects or when there are mixed types in a column."
   ]
  },
  {
   "cell_type": "markdown",
   "metadata": {},
   "source": [
    "### Types of Variables in the Iris Dataset <a id=\"types-variables\"></a>\n",
    "\n",
    "<img src = http://mirlab.org/jang/books/dcpr/image/iris.gif alt= \"Iris flower petal and sepal\">\n",
    "\n",
    "\n",
    "### Numeric Variables:\n",
    "\n",
    "- `sepal_length`: Numeric variable representing the sepal length in centimetres. It is a continuous variable, meaning it can take any numerical value within a certain range.\n",
    "- `sepal_width`: Numeric variable representing the sepal width in centimetres. Like sepal length, it is a continuous variable.\n",
    "- `petal_length`: Numeric variable indicating the length of the petal in centimetres. This is also a continuous variable.\n",
    "- `petal_width`: Numeric variable representing the width of the petal in centimetres. It is a continuous variable.\n",
    "\n",
    "As each of these continous variables have a defined zero point, i.e. none of these measurements can have a value below zero they can be further categorised as a ratio variable.\n",
    "\n",
    "### Categorical Variables:\n",
    "\n",
    "- `species`: Categorical variable indicating the species of the iris. There are three species in the dataset: Setosa, Versicolor and Virginica. This is a nominal categorical variable, meaning there is no inherent order between the categories.\n",
    "\n"
   ]
  },
  {
   "cell_type": "markdown",
   "metadata": {},
   "source": [
    "<a id=\"summary-statistics\"></a>\n",
    "\n",
    "## 3. Summary Statistics"
   ]
  },
  {
   "cell_type": "markdown",
   "metadata": {},
   "source": [
    "Summary statistics provide a quick summary of data and can be useful for comparing one dataset or variable to another.\n",
    "\n",
    "\n",
    "\n",
    "In Python one of the simplest and most useful ways to do this is by using the Pandas *df.describe()* function.  Depending on the nature of the variable it will return the following relevant output summary.\n",
    "\n",
    "For numerical variables the result will include;\n",
    "\n",
    "- count\n",
    "- mean\n",
    "- standard deviation\n",
    "- minimum\n",
    "- maximum\n",
    "- 25 percentile\n",
    "- 50 percentile\n",
    "- 75 percentiles\n",
    "\n",
    "For categorical variables the result will include;\n",
    "\n",
    "- count\n",
    "- unique\n",
    "- top\n",
    "- freq\n",
    "\n",
    "https://www.askpython.com/python/examples/calculate-summary-statistics"
   ]
  },
  {
   "cell_type": "markdown",
   "metadata": {},
   "source": [
    "Firstly I will look at the *species* variable as this is the only categorical variable."
   ]
  },
  {
   "cell_type": "code",
   "execution_count": null,
   "metadata": {},
   "outputs": [],
   "source": [
    "# Generat summary statistics for categorical variable.\n",
    "print(\"The variable species can be summarised by the following statistics.\")\n",
    "\n",
    "df.describe(include='object')"
   ]
  },
  {
   "cell_type": "markdown",
   "metadata": {},
   "source": [
    "From the above output we can see that;\n",
    "- there are a total of 150 species in the dataset.\n",
    "- there are 3 unique species types - setosa, virginica and versicolor.\n",
    "- the top or highest counted value of the species variable is setosa which occurs 50 times."
   ]
  },
  {
   "cell_type": "markdown",
   "metadata": {},
   "source": [
    "The *df.describe()* function could also be used for each of the numerical variables but as some of the the information provide in that output does not really tell us much about th data I have opted to instead define the outputs that I feel are the most appropriate for this dataset and these are:\n",
    "\n",
    "count - this counts the non-NA cells for each column or row. [count](https://pandas.pydata.org/docs/reference/api/pandas.DataFrame.count.html) <br/><br/>\n",
    "sum - returns the sum of all the values over the requested axis. [sum](https://pandas.pydata.org/docs/reference/api/pandas.DataFrame.sum.html)<br/><br/>\n",
    "min-data - returns the minimum of the values over the requested axis. [min](https://pandas.pydata.org/docs/reference/api/pandas.DataFrame.min.html)<br/><br/>\n",
    "max-data - returns the maximum of the values over the requested axis. [max](https://pandas.pydata.org/docs/reference/api/pandas.DataFrame.max.html#pandas.DataFrame.max)<br/><br/>\n",
    "mean - returns the mean of the values over the requested axis. [mean](https://pandas.pydata.org/docs/reference/api/pandas.DataFrame.mean.html)<br/><br/>\n",
    "median - returns the median of the values over the requested axis. [median](https://pandas.pydata.org/docs/reference/api/pandas.DataFrame.median.html)<br/><br/>\n",
    "std - returns sample standard deviation over requested axis. [std](https://pandas.pydata.org/docs/reference/api/pandas.DataFrame.std.html)<br/><br/>\n"
   ]
  },
  {
   "cell_type": "code",
   "execution_count": null,
   "metadata": {},
   "outputs": [],
   "source": [
    "# Generate summary statistics for Sepal Length.\n",
    "count_data = df[\"sepal_length\"].count() \n",
    "sum_data = df[\"sepal_length\"].sum() \n",
    "min_data = df[\"sepal_length\"].min() \n",
    "max_data = df[\"sepal_length\"].max() \n",
    "mean_data = df[\"sepal_length\"].mean() \n",
    "median_data = df[\"sepal_length\"].median() \n",
    "std_data = df[\"sepal_length\"].std()\n",
    "  \n",
    "print(\"The variable sepal length can be summarised by the following statistics.\")\n",
    "\n",
    "print (\"\\nCount:\", count_data, \"\\nSum:\",sum_data, \"\\nMin:\", min_data, \"\\nMaximum:\", max_data, \"\\nMean:\", \n",
    "       mean_data, \"\\nMedian:\",median_data, \"\\nStandard Deviation:\", std_data) "
   ]
  },
  {
   "cell_type": "code",
   "execution_count": null,
   "metadata": {},
   "outputs": [],
   "source": [
    "# Generate summary statistics for Sepal Width.\n",
    "count_data = df[\"sepal_width\"].count() \n",
    "sum_data = df[\"sepal_width\"].sum() \n",
    "min_data = df[\"sepal_width\"].min() \n",
    "max_data = df[\"sepal_width\"].max() \n",
    "mean_data = df[\"sepal_width\"].mean() \n",
    "median_data = df[\"sepal_width\"].median() \n",
    "std_data = df[\"sepal_width\"].std()\n",
    "  \n",
    "print(\"The variable sepal width can be summarised by the following statistics.\")\n",
    "\n",
    "print (\"\\nCount:\", count_data, \"\\nSum:\",sum_data, \"\\nMin:\", min_data, \"\\nMaximum:\", max_data, \"\\nMean:\", \n",
    "       mean_data, \"\\nMedian:\",median_data, \"\\nStandard Deviation:\", std_data) "
   ]
  },
  {
   "cell_type": "code",
   "execution_count": null,
   "metadata": {},
   "outputs": [],
   "source": [
    "# Generate summary statistics for Petal Length.\n",
    "count_data = df[\"petal_length\"].count() \n",
    "sum_data = df[\"petal_length\"].sum() \n",
    "min_data = df[\"petal_length\"].min() \n",
    "max_data = df[\"petal_length\"].max() \n",
    "mean_data = df[\"petal_length\"].mean() \n",
    "median_data = df[\"petal_length\"].median() \n",
    "std_data = df[\"petal_length\"].std()\n",
    "  \n",
    "print(\"The variable petal length can be summarised by the following statistics.\")\n",
    "\n",
    "print (\"\\nCount:\", count_data, \"\\nSum:\",sum_data, \"\\nMin:\", min_data, \"\\nMaximum:\", max_data, \"\\nMean:\", \n",
    "       mean_data, \"\\nMedian:\",median_data, \"\\nStandard Deviation:\", std_data) "
   ]
  },
  {
   "cell_type": "code",
   "execution_count": null,
   "metadata": {},
   "outputs": [],
   "source": [
    "# Generate summary statistics for Petal Width.\n",
    "count_data = df[\"petal_width\"].count()\n",
    "sum_data = df[\"petal_width\"].sum() \n",
    "min_data = df[\"petal_width\"].min() \n",
    "max_data = df[\"petal_width\"].max() \n",
    "mean_data = df[\"petal_width\"].mean() \n",
    "median_data = df[\"petal_width\"].median() \n",
    "std_data = df[\"petal_width\"].std()\n",
    "  \n",
    "print(\"The variable petal width can be summarised by the following statistics.\")\n",
    "\n",
    "print (\"\\nCount:\", count_data, \"\\nSum:\",sum_data, \"\\nMin:\", min_data, \"\\nMaximum:\", max_data, \"\\nMean:\", \n",
    "       mean_data, \"\\nMedian:\",median_data, \"\\nStandard Deviation:\", std_data) \n"
   ]
  },
  {
   "cell_type": "code",
   "execution_count": 121,
   "metadata": {},
   "outputs": [
    {
     "data": {
      "text/html": [
       "<div>\n",
       "<style scoped>\n",
       "    .dataframe tbody tr th:only-of-type {\n",
       "        vertical-align: middle;\n",
       "    }\n",
       "\n",
       "    .dataframe tbody tr th {\n",
       "        vertical-align: top;\n",
       "    }\n",
       "\n",
       "    .dataframe thead th {\n",
       "        text-align: right;\n",
       "    }\n",
       "</style>\n",
       "<table border=\"1\" class=\"dataframe\">\n",
       "  <thead>\n",
       "    <tr style=\"text-align: right;\">\n",
       "      <th></th>\n",
       "      <th>count</th>\n",
       "      <th>mean</th>\n",
       "      <th>std</th>\n",
       "      <th>min</th>\n",
       "      <th>25%</th>\n",
       "      <th>50%</th>\n",
       "      <th>75%</th>\n",
       "      <th>max</th>\n",
       "    </tr>\n",
       "  </thead>\n",
       "  <tbody>\n",
       "    <tr>\n",
       "      <th>sepal_length</th>\n",
       "      <td>150.0</td>\n",
       "      <td>5.843333</td>\n",
       "      <td>0.828066</td>\n",
       "      <td>4.3</td>\n",
       "      <td>5.1</td>\n",
       "      <td>5.80</td>\n",
       "      <td>6.4</td>\n",
       "      <td>7.9</td>\n",
       "    </tr>\n",
       "    <tr>\n",
       "      <th>sepal_width</th>\n",
       "      <td>150.0</td>\n",
       "      <td>3.057333</td>\n",
       "      <td>0.435866</td>\n",
       "      <td>2.0</td>\n",
       "      <td>2.8</td>\n",
       "      <td>3.00</td>\n",
       "      <td>3.3</td>\n",
       "      <td>4.4</td>\n",
       "    </tr>\n",
       "    <tr>\n",
       "      <th>petal_length</th>\n",
       "      <td>150.0</td>\n",
       "      <td>3.758000</td>\n",
       "      <td>1.765298</td>\n",
       "      <td>1.0</td>\n",
       "      <td>1.6</td>\n",
       "      <td>4.35</td>\n",
       "      <td>5.1</td>\n",
       "      <td>6.9</td>\n",
       "    </tr>\n",
       "    <tr>\n",
       "      <th>petal_width</th>\n",
       "      <td>150.0</td>\n",
       "      <td>1.199333</td>\n",
       "      <td>0.762238</td>\n",
       "      <td>0.1</td>\n",
       "      <td>0.3</td>\n",
       "      <td>1.30</td>\n",
       "      <td>1.8</td>\n",
       "      <td>2.5</td>\n",
       "    </tr>\n",
       "  </tbody>\n",
       "</table>\n",
       "</div>"
      ],
      "text/plain": [
       "              count      mean       std  min  25%   50%  75%  max\n",
       "sepal_length  150.0  5.843333  0.828066  4.3  5.1  5.80  6.4  7.9\n",
       "sepal_width   150.0  3.057333  0.435866  2.0  2.8  3.00  3.3  4.4\n",
       "petal_length  150.0  3.758000  1.765298  1.0  1.6  4.35  5.1  6.9\n",
       "petal_width   150.0  1.199333  0.762238  0.1  0.3  1.30  1.8  2.5"
      ]
     },
     "execution_count": 121,
     "metadata": {},
     "output_type": "execute_result"
    }
   ],
   "source": [
    "# Generate summary statistics for each of the 4 numerical variables.\n",
    "df_summary = df.describe().T\n",
    "\n",
    "df_summary.head()"
   ]
  },
  {
   "cell_type": "code",
   "execution_count": null,
   "metadata": {},
   "outputs": [],
   "source": [
    "# Generate summary statistics for each of the 4 numerical variables according to species\n",
    "df.groupby(\"species\").describe().T"
   ]
  },
  {
   "cell_type": "markdown",
   "metadata": {},
   "source": [
    "## 4. Plotting the variables <a id=\"plot-variables\"></a>"
   ]
  },
  {
   "cell_type": "markdown",
   "metadata": {},
   "source": [
    "### Data visualisation<a id=\"data-visualisation\"></a>\n",
    "\n",
    "https://chartio.com/learn/charts/how-to-choose-data-visualization/#:~:text=Bar%20charts%20are%20used%20when,estimate%20of%20the%20underlying%20distribution.\n",
    "\n",
    "While all of the above data is useful, plotting the data allows us to visualise it and makes it easier for the human brain to understand and pull insights from.  Visual analytics allow the user to dissect complex data, grasp big-picture information effectively as well as help with identifying patterns, trends as well as outliers in large datasets.  As the old saying goes, a picture paints a thousand words!\n",
    "\n",
    "The type of data you are analysing, what tasks you wish to perform and even the target audience will play a part in deciding which plot is the most apporpriate.  Some of the most common types of plots are;\n",
    "\n",
    "- pie chart\n",
    "    - *shows how a total amount is divided between levels of a categorical variable as a circle divided into radial slices*\n",
    "  \n",
    "- bar chart\n",
    "    - *plots numeric values for levels of a categorical feature as bars and is used when a variable is qualitative and takes a numer of discrete values*\n",
    "    - *shows a distribution of data points or comparison of metric values across different subgroups of your data*\n",
    "\n",
    "- histogram\n",
    "    - *plots the distribution of a numeric variable’s values as a series of bars with the bar's height indicating the frewuency of data points withing a corresponding bin*\n",
    "    - *shows general distribution features of dataset variables as well as and skewedness or outliers*\n",
    "\n",
    "- box plot\n",
    "    - *uses boxes and lines to depict the distributions of one or more groups of numeric data*\n",
    "    - *especially useful for seeing where the main bulk of the data is and making comparisons between different groups*   \n",
    "\n",
    "- scatter plot\n",
    "    - *uses dots to represent values for two different numeric variables with the position of each dot on the horizontal and vertical axis indicating values for an individual data point*\n",
    "    - *used to observe relationships between variables*    \n",
    "    \n",
    "- violin plot\n",
    "    - *depicts distributions of numeric data for one or more groups using density curves with the width of each curve corresponds with the approximate frequency of data points in each region*"
   ]
  },
  {
   "cell_type": "code",
   "execution_count": null,
   "metadata": {},
   "outputs": [],
   "source": [
    "# Using the matplotlib style sheets available to customise the output plots for all of the plots in this notebook\n",
    "# https://matplotlib.org/stable/gallery/style_sheets/style_sheets_reference.html\n",
    "plt.style.use('Solarize_Light2')"
   ]
  },
  {
   "cell_type": "markdown",
   "metadata": {},
   "source": [
    "#### Categorical Variables<a id=\"plot-categorical\"></a>"
   ]
  },
  {
   "cell_type": "markdown",
   "metadata": {},
   "source": [
    "As the *species* variable only has 3 possible options either a bar chart or a pie chart would be suitable options.  \n",
    "\n",
    "Bar charts are useful for highlighting the differences between categories or other discrete data with each bar representing a summary value for one discrete level. https://statisticsbyjim.com/graphs/bar-charts/#:~:text=Bar%20charts%20highlight%20differences%20between%20categories%20or%20other,can%20help%20you%20understand%20the%20relationship%20between%20them.\n",
    "\n",
    "Pie charts are also used to compare the sizes of categories in any given dataset but you must have a categorical variable that divides that data into groups. https://statisticsbyjim.com/graphs/pie-charts/"
   ]
  },
  {
   "cell_type": "code",
   "execution_count": null,
   "metadata": {},
   "outputs": [],
   "source": [
    "# Using the matplotlib style sheets available to customise the output plots for all of the plots in this notebook\n",
    "# https://matplotlib.org/stable/gallery/style_sheets/style_sheets_reference.html\n",
    "\n",
    "plt.style.use('Solarize_Light2')"
   ]
  },
  {
   "cell_type": "code",
   "execution_count": null,
   "metadata": {},
   "outputs": [],
   "source": [
    "# Generate countplot for the categorical variable species.\n",
    "ax = sns.countplot(x='species',  data=df)\n",
    "plt.title('Species Count in Iris Dataset', weight='bold')\n",
    "for container in ax.containers:\n",
    "    ax.bar_label(container)"
   ]
  },
  {
   "cell_type": "code",
   "execution_count": null,
   "metadata": {},
   "outputs": [],
   "source": [
    "# Generate pie chart for the categorical variable species.\n",
    "fig, ax = plt.subplots(figsize=(7,7))\n",
    "\n",
    "species = df['species'].value_counts()\n",
    "species.plot(kind='pie',autopct=\"%.2f%%\")\n",
    "plt.suptitle('Species Count in Iris Dataset', fontweight =\"bold\", fontsize=15)\n",
    "plt.show()"
   ]
  },
  {
   "cell_type": "markdown",
   "metadata": {},
   "source": [
    "#### Numerical Variables<a id=\"plot-numerical\"></a>"
   ]
  },
  {
   "cell_type": "markdown",
   "metadata": {},
   "source": [
    "The categorical variable doesn't really tell us much of interest about the dataset but looking at the numerical variables should provide more interesting data analysis visualisations."
   ]
  },
  {
   "cell_type": "code",
   "execution_count": null,
   "metadata": {},
   "outputs": [],
   "source": [
    "# Generate histograms for each numerical variable\n",
    "f,axes=plt.subplots(2,2, figsize=(16,12))\n",
    "plt.suptitle(\"Iris dataset hisogram of numerical variables\", size=20, weight='bold')\n",
    "\n",
    "sns.histplot(df[\"sepal_length\"],  kde = True, bins=10, ax=axes[0,0])\n",
    "ax=axes[0,0].set_title(\"Sepal Length\");\n",
    "\n",
    "sns.histplot(df[\"sepal_width\"],  kde = True, bins=10, ax=axes[0,1])\n",
    "ax=axes[0,1].set_title(\"Sepal Width\");\n",
    "\n",
    "sns.histplot(df[\"petal_length\"],  kde = True, bins=10, ax=axes[1,0])\n",
    "ax=axes[1,0].set_title(\"Petal Length\");\n",
    "\n",
    "sns.histplot(df[\"petal_width\"],  kde = True, bins=10, ax=axes[1,1])\n",
    "ax=axes[1,1].set_title(\"Petal Width\");\n",
    "\n",
    "plt.tight_layout();"
   ]
  },
  {
   "cell_type": "markdown",
   "metadata": {},
   "source": [
    "The histograms above show;\n",
    "\n",
    "- sepal width is the only variable that follows a somewhat Normal distribution.\n",
    "- sepal length, petal length and petal width show muliple peaks on the plot.  This is more than likely attributable to the different species exhibiting distinct sizes.\n",
    "\n",
    "In order to see if that is the case I will generate histograms of the numerical variables for each of the species."
   ]
  },
  {
   "cell_type": "code",
   "execution_count": null,
   "metadata": {},
   "outputs": [],
   "source": [
    "# Define the three different species variables which allows us to generate plots by species.\n",
    "iris_s = df[df.species == \"setosa\"]\n",
    "iris_vers = df[df.species == \"versicolor\"]\n",
    "iris_virg = df[df.species == \"virginica\"]"
   ]
  },
  {
   "cell_type": "code",
   "execution_count": null,
   "metadata": {},
   "outputs": [],
   "source": [
    "# Generate histograms for each numerical variable split out by species\n",
    "f,axes=plt.subplots(4,3, figsize=(16,18))\n",
    "plt.suptitle(\"Histograms of variable split by species\", size=20, weight='bold')\n",
    "\n",
    "sns.histplot(iris_s[\"sepal_length\"],  kde = True, label = \"Iris setosa\", bins=10, ax=axes[0,0],color = \"lightblue\" )\n",
    "ax=axes[0,0].set_title(\"Sepal Length Setosa\");\n",
    "sns.histplot(iris_vers[\"sepal_length\"],  kde = True, label = \"Iris versicolor\", bins=10, ax=axes[0,1], color = \"lightblue\" )\n",
    "ax=axes[0,1].set_title(\"Sepal Length Versicolor\");\n",
    "sns.histplot(iris_virg[\"sepal_length\"],  kde = True, label = \"Iris virginica\", bins=10, ax=axes[0,2], color = \"lightblue\" )\n",
    "ax=axes[0,2].set_title(\"Sepal Length Virginica\");\n",
    "\n",
    "sns.histplot(iris_s[\"sepal_width\"],  kde = True, label = \"Iris setosa\", bins=10, ax=axes[1,0],color = \"lightslategray\" )\n",
    "ax=axes[1,0].set_title(\"Sepal Width Setosa\");\n",
    "sns.histplot(iris_vers[\"sepal_width\"],  kde = True, label = \"Iris versicolor\", bins=10, ax=axes[1,1], color = \"lightslategray\" )\n",
    "ax=axes[1,1].set_title(\"Sepal Width Versicolor\");\n",
    "sns.histplot(iris_virg[\"sepal_width\"],  kde = True, label = \"Iris virginica\", bins=10, ax=axes[1,2], color = \"lightslategray\" )\n",
    "ax=axes[1,2].set_title(\"Sepal Width Virginica\");\n",
    "\n",
    "sns.histplot(iris_s[\"petal_length\"],  kde = True, label = \"Iris setosa\", bins=10, ax=axes[2,0], color = \"steelblue\" )\n",
    "ax=axes[2,0].set_title(\"Petal Length Setosa\");\n",
    "sns.histplot(iris_vers[\"petal_length\"],  kde = True, label = \"Iris versicolor\", bins=10, ax=axes[2,1], color = \"steelblue\" )\n",
    "ax=axes[2,1].set_title(\"Petal Length Versicolor\");\n",
    "sns.histplot(iris_virg[\"petal_length\"],  kde = True, label = \"Iris virginica\", bins=10, ax=axes[2,2], color = \"steelblue\" )\n",
    "ax=axes[2,2].set_title(\"Petal Length Virginica\");\n",
    "\n",
    "sns.histplot(iris_s[\"petal_width\"],  kde = True, label = \"Iris setosa\", bins=10, ax=axes[3,0], color=\"midnightblue\" )\n",
    "ax=axes[3,0].set_title(\"Petal Width Setosa\");\n",
    "sns.histplot(iris_vers[\"petal_width\"],  kde = True, label = \"Iris versicolor\", bins=10, ax=axes[3,1], color=\"midnightblue\" )\n",
    "ax=axes[3,1].set_title(\"Petal Width Versicolor\");\n",
    "sns.histplot(iris_virg[\"petal_width\"],  kde = True, label = \"Iris virginica\", bins=10, ax=axes[3,2], color=\"midnightblue\" )\n",
    "ax=axes[3,2].set_title(\"Petal Width Virginica\");\n",
    "\n",
    "\n",
    "plt.tight_layout();"
   ]
  },
  {
   "cell_type": "markdown",
   "metadata": {},
   "source": [
    "When we look at the histograms for the variables when split out by the distinct species class we can see that apart from the petal width of Iris virginica most of the observations for each variable occur around the median.  Although the above histograms are interesting to see the distribution of each variable by species it is difficult to see the relationship between them.\n",
    "\n",
    "Creating one histogram for each of the variables with the distinct species class represented may be more beneficial."
   ]
  },
  {
   "cell_type": "code",
   "execution_count": null,
   "metadata": {},
   "outputs": [],
   "source": [
    "# Generate histograms for each numerical variable with each of the species clearly distinguishable\n",
    "\n",
    "sns.FacetGrid(df, hue=\"species\", height=4).map(sns.histplot, \"sepal_length\").add_legend()\n",
    "sns.FacetGrid(df, hue=\"species\", height=4).map(sns.histplot, \"sepal_width\").add_legend()\n",
    "sns.FacetGrid(df, hue=\"species\", height=4).map(sns.histplot, \"petal_length\").add_legend()\n",
    "sns.FacetGrid(df, hue=\"species\", height=4).map(sns.histplot, \"petal_width\").add_legend()\n",
    "\n",
    "plt.show()"
   ]
  },
  {
   "cell_type": "markdown",
   "metadata": {},
   "source": [
    "Displaying the numerical variables like this makes to easier to see how each of the species compare with the others.\n",
    "\n",
    "From the histograms directly above we can see;\n",
    "\n",
    "- *the sepal length of the setosa is shorter while those of the versicolor and the virginica are more closely aligned.*\n",
    "- *the setosa has a longer sepal width than the versicolar and virginica as well as the largest spread of sepal width measurements.*\n",
    "- *if we look at the plots for petal length and petal width it is very easy to distinguish the setosa from both the versicolor and virginica.*\n"
   ]
  },
  {
   "cell_type": "markdown",
   "metadata": {},
   "source": [
    "[Box plots](#https://en.wikipedia.org/wiki/Box_plot) is useful as it shows various statistics all in one plot.  displays the five-number summary of a set of data. The five-number summary is the minimum, first quartile, median, third quartile, and maximum.\n",
    "\n",
    "Along with showing the distribution within each variable, we can also see comparisons across the different category which in this case is species.  The length of the box is the interquartile range and measures the variability in the data set. The interquartile range (IQR) is the middle 50% of the data and can show the spread or variation of the data. The whiskers show if the data is skewed in one direction or the other. The median is the line through the box."
   ]
  },
  {
   "cell_type": "code",
   "execution_count": null,
   "metadata": {},
   "outputs": [],
   "source": [
    "# Generate boxplots for each of the numerical variables displayed by species\n",
    "f,axes=plt.subplots(2,2, figsize=(16,12))\n",
    "plt.suptitle(\"Iris dataset box plots\", size=20, weight='bold')\n",
    "\n",
    "sns.boxplot(x = \"species\", y = \"sepal_length\", data = df, ax=axes[0,0])\n",
    "ax=axes[0,0].set_title(\"Sepal Length\");\n",
    "\n",
    "sns.boxplot(x = \"species\", y = \"sepal_width\", data = df, ax=axes[0,1])\n",
    "ax=axes[0,1].set_title(\"Sepal Width\");\n",
    "\n",
    "sns.boxplot(x = \"species\", y = \"petal_length\", data = df, ax=axes[1,0])\n",
    "ax=axes[1,0].set_title(\"Petal Length\");\n",
    "\n",
    "sns.boxplot(x = \"species\", y = \"petal_width\", data = df, ax=axes[1,1])\n",
    "ax=axes[1,1].set_title(\"Petal Width\");"
   ]
  },
  {
   "cell_type": "markdown",
   "metadata": {},
   "source": [
    "From the boxplots above we can see;\n",
    "\n",
    "- *the setosa has a much smaller petal width and length than either of the other 2 species.*\n",
    "- *there are very few outliers in the data, mostly setosa.*\n"
   ]
  },
  {
   "cell_type": "markdown",
   "metadata": {},
   "source": [
    "### Bivariate Analysis <a id=\"bivariate-analysis\"></a>\n"
   ]
  },
  {
   "cell_type": "markdown",
   "metadata": {},
   "source": [
    "All of the above plots and alaysis could be classed as *univariate* as they look at each of the variables in isolation.  *Bivariate* analysis involves comparing two variables.\n",
    "\n",
    "A [pairplot](#https://seaborn.pydata.org/generated/seaborn.pairplot.html) is used to plot pairwise relationships in a dataset.  It is a series of scatterplots which uses dots to represent values for two different numeric variables with the position of each dot on the horizontal and vertical axis indicating values for an individual data point as  well as the marginal distributions.  It is useful for observing relationships between variables.\n"
   ]
  },
  {
   "cell_type": "code",
   "execution_count": null,
   "metadata": {},
   "outputs": [],
   "source": [
    "# Generate pairplot of the dataset\n",
    "sns.pairplot(df,hue='species')\n",
    "\n",
    "plt.show()"
   ]
  },
  {
   "cell_type": "markdown",
   "metadata": {},
   "source": [
    "Similarly to the observations made from histograms and box plots above we can see that the setosa is quite different from the other 2 species, however it is more difficult to seperate versicolor and virginica from each other as there is some overlap in their measurements."
   ]
  },
  {
   "cell_type": "markdown",
   "metadata": {},
   "source": [
    "The pandas *correlation()* function is a statistical method used to determine whether a linear relationship between variables exists and the output is a correlation matrix.  If there is a strong positive relationship between the variables, the value of the correlation coefficient will be close to 1, while a strong negative relationship will have a correlation coefficient close to -1. A value close to zero would indicate that there is no relationship between the variables."
   ]
  },
  {
   "cell_type": "code",
   "execution_count": null,
   "metadata": {},
   "outputs": [],
   "source": [
    "# Generate a correlation matrix for each numerical variable by species\n",
    "df.groupby(\"species\").corr()"
   ]
  },
  {
   "cell_type": "markdown",
   "metadata": {},
   "source": [
    "From the correlation matrix above we can see;\n",
    "\n",
    "- *a high correlation between sepal length and sepal width for the setosa at almost 0.75 while the correlation between the sepal measurements is nearer to 0.5 for both the versicolor and almost the virginica.*\n",
    "\n",
    "- *a strong positive correlation between the petal length and petal widths for the Iris Versicolor only.*\n",
    "\n",
    "- *a very strong relationship between the petal length and the sepal length for the virginica at over 0.86.*\n",
    "\n",
    "- *a strong correlation between the petal length and the sepal length at 0.75 for the versicolor.*"
   ]
  },
  {
   "cell_type": "markdown",
   "metadata": {},
   "source": [
    "## Resources<a id=\"resources\"></a>\n",
    "\n",
    "\n",
    "https://www.pycodemates.com/2022/05/iris-dataset-classification-with-python.html?utm_content=cmp-true\n",
    "\n",
    "https://towardsdatascience.com/classification-basics-walk-through-with-the-iris-data-set-d46b0331bf82\n",
    "\n",
    "https://rasbt.github.io/mlxtend/user_guide/data/iris_data/\n",
    "\n",
    "https://www.geeksforgeeks.org/python-basics-of-pandas-using-iris-dataset/\n",
    "\n",
    "https://www.kaggle.com/code/sixteenpython/machine-learning-with-iris-dataset\n",
    "\n",
    "https://medium.com/@estebanthi/classification-analysis-use-case-the-iris-dataset-99b3902b708b\n",
    "\n",
    "https://scikit-learn.org/stable/auto_examples/datasets/plot_iris_dataset.html\n",
    "\n",
    "https://en.wikipedia.org/wiki/Glossary_of_probability_and_statistics#tidy_data\n",
    "\n",
    "https://www.kaggle.com/code/bharath25/descriptive-statistics-and-machine-learning-iris\n",
    "\n",
    "https://www.scribbr.com/statistics/descriptive-statistics/\n",
    "\n",
    "https://pandas.pydata.org/docs/reference/frame.html\n",
    "\n",
    "https://statisticsbyjim.com/basics/nominal-ordinal-interval-ratio-scales/\n",
    "\n",
    "https://spectrum.adobe.com/page/data-visualization-fundamentals/\n",
    "\n",
    "https://www.techtarget.com/searchbusinessanalytics/definition/data-visualization\n",
    "\n",
    "https://chartio.com/learn/charts/how-to-choose-data-visualization/#:~:text=Bar%20charts%20are%20used%20when,estimate%20of%20the%20underlying%20distribution\n",
    "\n",
    "https://pandas.pydata.org/docs/reference/api/pandas.DataFrame.corr.html\n",
    "\n",
    "\n"
   ]
  },
  {
   "cell_type": "markdown",
   "metadata": {},
   "source": [
    "***\n",
    "\n",
    "## End"
   ]
  }
 ],
 "metadata": {
  "kernelspec": {
   "display_name": "base",
   "language": "python",
   "name": "python3"
  },
  "language_info": {
   "codemirror_mode": {
    "name": "ipython",
    "version": 3
   },
   "file_extension": ".py",
   "mimetype": "text/x-python",
   "name": "python",
   "nbconvert_exporter": "python",
   "pygments_lexer": "ipython3",
   "version": "3.11.4"
  }
 },
 "nbformat": 4,
 "nbformat_minor": 2
}
