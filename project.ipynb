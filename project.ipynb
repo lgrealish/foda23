{
 "cells": [
  {
   "cell_type": "markdown",
   "metadata": {},
   "source": [
    "# Fundaments of Data Analysis Project\n",
    "\n",
    "**Linda Grealish**\n",
    "\n",
    "***"
   ]
  },
  {
   "cell_type": "markdown",
   "metadata": {},
   "source": [
    "## Table of Contents\n",
    "1. [Introduction](#overview)  \n",
    "    - [Problem Statement](#problem-statement)\n",
    "    - [About this notebook and technologies used](#about-this-notebook-and-python-libraries-used)\n",
    "    - [About the Iris dataset](#iris-dataset) \n",
    "2. [Classification of the variables](#classification)\n",
    "    - [Loading dataset and python libraries](#load-dataset-libraries)\n",
    "    - [Types of variables in the dataset](#types-variables)\n",
    "3. [Summary statistics of the variables](#summary-statistics)\n",
    "4. [Plotting the variables]()\n",
    "5. [Resources](#resources)"
   ]
  },
  {
   "cell_type": "markdown",
   "metadata": {},
   "source": [
    "***\n",
    "## 1. Introduction and Project Overview: <a class=\"anchor\" id=\"overview\"></a>\n",
    "\n",
    "This notebook contains my submission for the Fundamentals of Data Analysis Module 2023 module at ATU as part of the Higher Diploma in Computing and Data Analytics.  The topic of the project is research and investigation of Fisher's Iris dataset.\n",
    "\n",
    "<a id=\"problem-statement\"></a>\n",
    "### Problem statement:\n",
    "\n",
    "*• The project is to create a notebook investigating the variables and data points within the well-known iris flower data set associated with Ronald A Fisher.*\n",
    "\n",
    "*• In the notebook, you should discuss the classification of each variable within the data set according to common variable types and scales of measurement in mathematics, statistics, and Python.*\n",
    "\n",
    "*• Select, demonstrate, and explain the most appropriate summary statistics to describe each variable.*\n",
    "\n",
    "*• Select, demonstrate, and explain the most appropriate plot(s) for each variable.*\n",
    "\n",
    "*• The notebook should follow a cohesive narrative about the data set.*"
   ]
  },
  {
   "cell_type": "markdown",
   "metadata": {},
   "source": [
    "## About this notebook and python libraries used <a id=\"notebook\"></a>\n",
    "\n",
    "This project was mainly developed using the python and the following packages:\n",
    "\n",
    "- NumPy is one of the most important packages for numerical and scientific computing in Python.\n",
    "- Seaborn is a Python data visualization library for making attractive and informative statistical graphics in Python.\n",
    "- Pandas provides data analysis tools and is designed for working with tabular data that contains an ordered collection of columns where each column can have a different value type. \n",
    "- Matplotlib.pyplot\n"
   ]
  },
  {
   "cell_type": "markdown",
   "metadata": {},
   "source": [
    "<a class=\"anchor\" id=\"iris-dataset\"></a>\n",
    "## The Iris dataset \n",
    "\n",
    "Iris flower data, also known as Fisher's Iris dataset was introduced by British biologist and statistician Sir Ronald Aylmer Fisher. In 1936, Sir Fisher published a report titled [“The Use of Multiple Measurements in Taxonomic Problems”](https://onlinelibrary.wiley.com/doi/epdf/10.1111/j.1469-1809.1936.tb02137.x) in the journal Annals of Eugenics. In this article, Fisher developed and evaluated a linear function to differentiate Iris species based on the morphology of their flowers. It was the first time that the sepal and petal measures of the three Iris species as mentioned above appeared publicly.\n",
    "\n",
    "The *iris* dataset is available in the [seaborn-data repository](https://github.com/mwaskom/seaborn-data) belonging to Michael Waskom - the creator of the [seaborn](https://seaborn.pydata.org/index.html) python data visualisation package.\n",
    "\n",
    "The *iris* dataset illustrates the “tidy” approach to organizing a dataset. [Tidy data](https://en.wikipedia.org/wiki/Tidy_data) is an alternate name for the common statistical form called a model matrix or data matrix which is\n",
    "\n",
    ">A standard method of displaying a multivariate set of data is in the form of a data matrix in which rows correspond to sample individuals and columns to variables, so that the entry in the ith row and jth column gives the value of the jth variate as measured or observed on the ith individual.\n",
    "\n",
    "\n",
    "It is a multivariate data set of 50 samples which the author gathered on each of three species of Irises: setosa, versicolor and virginica. Measurements of 4 properties of 50 flowers of each of the plants were taken, namely Sepal length, Sepal width, Petal Length, and Petal width. The author suggests that the petal and sepal lengths and widths are characteristics which can be used to identify which species they belong to based on a linear discriminant modelLinear discriminant analysis. Fisher himself developed the linear discriminant model, a statistical, machine learning and pattern recognition technique used to distinguish between two or more objects, classes or events. Iris Data set wikipedia Fisher presented the data for the 3 species in a table with each of the four measurements and subsequently, tables of observed means, sums of squares etc. in order to demonstrate how each species can be discriminated from one another.\n"
   ]
  },
  {
   "cell_type": "markdown",
   "metadata": {},
   "source": [
    "<img src = Images/iris-species-image.png alt= \"Iris flower species\">"
   ]
  },
  {
   "cell_type": "markdown",
   "metadata": {},
   "source": [
    "***\n",
    "# 2. Classification of the variables within the dataset<a id=\"classification\"></a>"
   ]
  },
  {
   "cell_type": "markdown",
   "metadata": {},
   "source": [
    "<a id=\"load-dataset-libraries\"></a>\n",
    "## Loading dataset and python libraries"
   ]
  },
  {
   "cell_type": "markdown",
   "metadata": {},
   "source": [
    "\n",
    "The iris dataset is available as described above in csv format (comma separated values) from various sources but for this project I have used the link from the [seaborn-data repository](https://github.com/mwaskom/seaborn-data) at <https://github.com/mwaskom/seaborn-data/blob/master/iris.csv>. Here the csv data is actually displayed nicely to the screen in tabular format - to get a link for the raw csv file click the `raw` icon which dumps the raw csv file to the browser from where you can copy the url <https://raw.githubusercontent.com/mwaskom/seaborn-data/master/iris.csv>.   \n",
    "  \n",
    "Data that is in csv format can be read into a pandas **DataFrame** object either from a csv file or from a URL using the [`read_csv`](https://pandas.pydata.org/pandas-docs/stable/user_guide/io.html#io-read-csv-table) function. A pandas DataFrame is a 2 dimensional data structure with rows and columns that resembles a spreadsheet. A DataFrame can have mixed data types such as numeric, integer, string, boolean etc but each column will have only one data type. "
   ]
  },
  {
   "cell_type": "code",
   "execution_count": 16,
   "metadata": {},
   "outputs": [],
   "source": [
    "# Import modules necessary for this task\n",
    "import numpy as np\n",
    "import pandas as pd\n",
    "import matplotlib.pyplot as plt\n",
    "import seaborn as sns"
   ]
  },
  {
   "cell_type": "code",
   "execution_count": 17,
   "metadata": {},
   "outputs": [],
   "source": [
    "# Read in the iris dataset from the online source and create a dataframe named df.\n",
    "url = 'https://raw.githubusercontent.com/mwaskom/seaborn-data/master/iris.csv'\n",
    "\n",
    "df = pd.read_csv(url)"
   ]
  },
  {
   "cell_type": "markdown",
   "metadata": {},
   "source": [
    "Now that the csv file has been succesfully read into a pandas dataframe object, , I want to check that the dataframe looks ok.  The pandas df.head() and df.tail() functions are a useful way to check if a csv file has been read in properly, particularly the tail() function as any problems usually appear towards the end of the dataframe, throwing out the last number of rows but all looks well here."
   ]
  },
  {
   "cell_type": "code",
   "execution_count": 18,
   "metadata": {},
   "outputs": [
    {
     "name": "stdout",
     "output_type": "stream",
     "text": [
      "The first few rows in the dataset: \n",
      "\n",
      "    sepal_length  sepal_width  petal_length  petal_width species\n",
      "0           5.1          3.5           1.4          0.2  setosa\n",
      "1           4.9          3.0           1.4          0.2  setosa\n",
      "2           4.7          3.2           1.3          0.2  setosa\n",
      "3           4.6          3.1           1.5          0.2  setosa\n",
      "4           5.0          3.6           1.4          0.2  setosa\n",
      "\n",
      " The final few rows in the dataset \n",
      "      sepal_length  sepal_width  petal_length  petal_width    species\n",
      "145           6.7          3.0           5.2          2.3  virginica\n",
      "146           6.3          2.5           5.0          1.9  virginica\n",
      "147           6.5          3.0           5.2          2.0  virginica\n",
      "148           6.2          3.4           5.4          2.3  virginica\n",
      "149           5.9          3.0           5.1          1.8  virginica\n"
     ]
    }
   ],
   "source": [
    "# Look at the top 5 rows of the DataFrame df\n",
    "print(\"The first few rows in the dataset: \\n\\n\", df.head()) \n",
    "\n",
    "# Look at the bottom 5 rows of the DataFrame\n",
    "print('\\n The final few rows in the dataset \\n',df.tail()) "
   ]
  },
  {
   "cell_type": "code",
   "execution_count": 19,
   "metadata": {},
   "outputs": [
    {
     "data": {
      "text/html": [
       "<div>\n",
       "<style scoped>\n",
       "    .dataframe tbody tr th:only-of-type {\n",
       "        vertical-align: middle;\n",
       "    }\n",
       "\n",
       "    .dataframe tbody tr th {\n",
       "        vertical-align: top;\n",
       "    }\n",
       "\n",
       "    .dataframe thead th {\n",
       "        text-align: right;\n",
       "    }\n",
       "</style>\n",
       "<table border=\"1\" class=\"dataframe\">\n",
       "  <thead>\n",
       "    <tr style=\"text-align: right;\">\n",
       "      <th></th>\n",
       "      <th>sepal_length</th>\n",
       "      <th>sepal_width</th>\n",
       "      <th>petal_length</th>\n",
       "      <th>petal_width</th>\n",
       "      <th>species</th>\n",
       "    </tr>\n",
       "  </thead>\n",
       "  <tbody>\n",
       "    <tr>\n",
       "      <th>0</th>\n",
       "      <td>False</td>\n",
       "      <td>False</td>\n",
       "      <td>False</td>\n",
       "      <td>False</td>\n",
       "      <td>False</td>\n",
       "    </tr>\n",
       "    <tr>\n",
       "      <th>1</th>\n",
       "      <td>False</td>\n",
       "      <td>False</td>\n",
       "      <td>False</td>\n",
       "      <td>False</td>\n",
       "      <td>False</td>\n",
       "    </tr>\n",
       "    <tr>\n",
       "      <th>2</th>\n",
       "      <td>False</td>\n",
       "      <td>False</td>\n",
       "      <td>False</td>\n",
       "      <td>False</td>\n",
       "      <td>False</td>\n",
       "    </tr>\n",
       "    <tr>\n",
       "      <th>3</th>\n",
       "      <td>False</td>\n",
       "      <td>False</td>\n",
       "      <td>False</td>\n",
       "      <td>False</td>\n",
       "      <td>False</td>\n",
       "    </tr>\n",
       "    <tr>\n",
       "      <th>4</th>\n",
       "      <td>False</td>\n",
       "      <td>False</td>\n",
       "      <td>False</td>\n",
       "      <td>False</td>\n",
       "      <td>False</td>\n",
       "    </tr>\n",
       "    <tr>\n",
       "      <th>...</th>\n",
       "      <td>...</td>\n",
       "      <td>...</td>\n",
       "      <td>...</td>\n",
       "      <td>...</td>\n",
       "      <td>...</td>\n",
       "    </tr>\n",
       "    <tr>\n",
       "      <th>145</th>\n",
       "      <td>False</td>\n",
       "      <td>False</td>\n",
       "      <td>False</td>\n",
       "      <td>False</td>\n",
       "      <td>False</td>\n",
       "    </tr>\n",
       "    <tr>\n",
       "      <th>146</th>\n",
       "      <td>False</td>\n",
       "      <td>False</td>\n",
       "      <td>False</td>\n",
       "      <td>False</td>\n",
       "      <td>False</td>\n",
       "    </tr>\n",
       "    <tr>\n",
       "      <th>147</th>\n",
       "      <td>False</td>\n",
       "      <td>False</td>\n",
       "      <td>False</td>\n",
       "      <td>False</td>\n",
       "      <td>False</td>\n",
       "    </tr>\n",
       "    <tr>\n",
       "      <th>148</th>\n",
       "      <td>False</td>\n",
       "      <td>False</td>\n",
       "      <td>False</td>\n",
       "      <td>False</td>\n",
       "      <td>False</td>\n",
       "    </tr>\n",
       "    <tr>\n",
       "      <th>149</th>\n",
       "      <td>False</td>\n",
       "      <td>False</td>\n",
       "      <td>False</td>\n",
       "      <td>False</td>\n",
       "      <td>False</td>\n",
       "    </tr>\n",
       "  </tbody>\n",
       "</table>\n",
       "<p>150 rows × 5 columns</p>\n",
       "</div>"
      ],
      "text/plain": [
       "     sepal_length  sepal_width  petal_length  petal_width  species\n",
       "0           False        False         False        False    False\n",
       "1           False        False         False        False    False\n",
       "2           False        False         False        False    False\n",
       "3           False        False         False        False    False\n",
       "4           False        False         False        False    False\n",
       "..            ...          ...           ...          ...      ...\n",
       "145         False        False         False        False    False\n",
       "146         False        False         False        False    False\n",
       "147         False        False         False        False    False\n",
       "148         False        False         False        False    False\n",
       "149         False        False         False        False    False\n",
       "\n",
       "[150 rows x 5 columns]"
      ]
     },
     "execution_count": 19,
     "metadata": {},
     "output_type": "execute_result"
    }
   ],
   "source": [
    "# Checking for any null values\n",
    "df.isnull()"
   ]
  },
  {
   "cell_type": "code",
   "execution_count": 20,
   "metadata": {},
   "outputs": [
    {
     "name": "stdout",
     "output_type": "stream",
     "text": [
      "False False False False False\n"
     ]
    }
   ],
   "source": [
    "# Checking for any null values for each of the columns\n",
    "print(*df.isna().any()) \n",
    "    \n"
   ]
  },
  {
   "cell_type": "code",
   "execution_count": 21,
   "metadata": {},
   "outputs": [
    {
     "name": "stdout",
     "output_type": "stream",
     "text": [
      "The dtypes in the dataframe are:\n",
      "\n",
      "sepal_length    float64\n",
      "sepal_width     float64\n",
      "petal_length    float64\n",
      "petal_width     float64\n",
      "species          object\n",
      "dtype: object\n"
     ]
    }
   ],
   "source": [
    "# Summarise the data types contained in the df\n",
    "\n",
    "print(\"The dtypes in the dataframe are:\", end='\\n\\n')\n",
    "\n",
    "print(df.dtypes) "
   ]
  },
  {
   "cell_type": "markdown",
   "metadata": {},
   "source": [
    "\n",
    "There are four numerical columns and 1 non-numerical object columns. The variables `sepal_length`, `sepal_width`, `petal_length` and `tip` are floats representing measurement in centimetres while `species` is an object representing the species of the iris flower observed. Pandas uses the `object` dtype for storing strings, other arbitary objects or when there are mixed types in a column."
   ]
  },
  {
   "cell_type": "markdown",
   "metadata": {},
   "source": [
    "## Types of Variables in the Iris Dataset <a id=\"types-variables\"></a>\n",
    "\n",
    "<img src = http://mirlab.org/jang/books/dcpr/image/iris.gif alt= \"Iris flower petal and sepal\">\n",
    "\n",
    "\n",
    "### Numeric Variables:\n",
    "\n",
    "- `sepal_width`: Numeric variable representing the sepal length in millimeters. It is a continuous variable, meaning it can take any numerical value within a certain range.\n",
    "- `sepal_width`: Numeric variable representing the sepal width in millimeters. Like sepal length, it is a continuous variable.\n",
    "- `petal_length`: Numeric variable indicating the length of the petal in millimeters. This is also a continuous variable.\n",
    "- `petal_width`: Numeric variable representing the width of the petal in millimeters. It is a continuous variable.\n",
    "\n",
    "As each of these continous variables have a defined zero point, i.e. none of these measurements can have a value below zero they can be further categorised as a ratio variable.\n",
    "\n",
    "### Categorical Variables:\n",
    "\n",
    "- `species`: Categorical variable indicating the species of the iris. There are three species in the dataset: Setosa, Versicolor and Virginica. This is a nominal categorical variable, meaning there is no inherent order between the categories.\n",
    "\n"
   ]
  },
  {
   "cell_type": "markdown",
   "metadata": {},
   "source": [
    "<a id=\"summary-statistics\"></a>\n",
    "\n",
    "# 3. Summary statistics"
   ]
  },
  {
   "cell_type": "markdown",
   "metadata": {},
   "source": [
    "Summary statistics provide a quick summary of data and can be useful for comparing one dataset or variable to another.\n",
    "\n",
    "\n",
    "\n",
    "In Python one of the simplest and most useful ways to do this is by using the Pandas *df.describe()* function.  Depending on the nature of the variable it will return the following relevant output summary.\n",
    "\n",
    "For numerical variables the result will include;\n",
    "\n",
    "- count\n",
    "- mean\n",
    "- standard deviation\n",
    "- minimum\n",
    "- maximum\n",
    "- 25 percentile\n",
    "- 50 percentile\n",
    "- 75 percentiles\n",
    "\n",
    "For categorical variables the result will include;\n",
    "\n",
    "- count\n",
    "- unique\n",
    "- top\n",
    "- freq\n",
    "\n",
    "https://www.askpython.com/python/examples/calculate-summary-statistics"
   ]
  },
  {
   "cell_type": "markdown",
   "metadata": {},
   "source": [
    "Firstly I will look at the *species* variable as this is the only categorical variable."
   ]
  },
  {
   "cell_type": "code",
   "execution_count": 22,
   "metadata": {},
   "outputs": [
    {
     "name": "stdout",
     "output_type": "stream",
     "text": [
      "The variable species can be summarised by the following statistics.\n"
     ]
    },
    {
     "data": {
      "text/html": [
       "<div>\n",
       "<style scoped>\n",
       "    .dataframe tbody tr th:only-of-type {\n",
       "        vertical-align: middle;\n",
       "    }\n",
       "\n",
       "    .dataframe tbody tr th {\n",
       "        vertical-align: top;\n",
       "    }\n",
       "\n",
       "    .dataframe thead th {\n",
       "        text-align: right;\n",
       "    }\n",
       "</style>\n",
       "<table border=\"1\" class=\"dataframe\">\n",
       "  <thead>\n",
       "    <tr style=\"text-align: right;\">\n",
       "      <th></th>\n",
       "      <th>species</th>\n",
       "    </tr>\n",
       "  </thead>\n",
       "  <tbody>\n",
       "    <tr>\n",
       "      <th>count</th>\n",
       "      <td>150</td>\n",
       "    </tr>\n",
       "    <tr>\n",
       "      <th>unique</th>\n",
       "      <td>3</td>\n",
       "    </tr>\n",
       "    <tr>\n",
       "      <th>top</th>\n",
       "      <td>setosa</td>\n",
       "    </tr>\n",
       "    <tr>\n",
       "      <th>freq</th>\n",
       "      <td>50</td>\n",
       "    </tr>\n",
       "  </tbody>\n",
       "</table>\n",
       "</div>"
      ],
      "text/plain": [
       "       species\n",
       "count      150\n",
       "unique       3\n",
       "top     setosa\n",
       "freq        50"
      ]
     },
     "execution_count": 22,
     "metadata": {},
     "output_type": "execute_result"
    }
   ],
   "source": [
    "print(\"The variable species can be summarised by the following statistics.\")\n",
    "\n",
    "df.describe(include='object')"
   ]
  },
  {
   "cell_type": "markdown",
   "metadata": {},
   "source": [
    "From the above output we can see that;\n",
    "- there are a total of 150 species in the dataset.\n",
    "- there are 3 unique species types - setosa, virginica and versicolor.\n",
    "- the top or highest counted value of the species variable is setosa which occurs 50 times."
   ]
  },
  {
   "cell_type": "markdown",
   "metadata": {},
   "source": [
    "The *df.describe()* function could also be used for each of the numerical variables but as some of the the information provide in that output does not really tell us much about th data I have opted to instead define the outputs that I feel are the most appropriate for this dataset and these are:\n",
    "\n",
    "count - this counts the non-NA cells for each column or row. [count](https://pandas.pydata.org/docs/reference/api/pandas.DataFrame.count.html) <br/><br/>\n",
    "sum - returns the sum of all the values over the requested axis. [sum](https://pandas.pydata.org/docs/reference/api/pandas.DataFrame.sum.html)<br/><br/>\n",
    "min-data - returns the minimum of the values over the requested axis. [min](https://pandas.pydata.org/docs/reference/api/pandas.DataFrame.min.html)<br/><br/>\n",
    "max-data - returns the maximum of the values over the requested axis. [max](https://pandas.pydata.org/docs/reference/api/pandas.DataFrame.max.html#pandas.DataFrame.max)<br/><br/>\n",
    "mean - returns the mean of the values over the requested axis. [mean](https://pandas.pydata.org/docs/reference/api/pandas.DataFrame.mean.html)<br/><br/>\n",
    "median - returns the median of the values over the requested axis. [median](https://pandas.pydata.org/docs/reference/api/pandas.DataFrame.median.html)<br/><br/>\n",
    "std - returns sample standard deviation over requested axis. [std](https://pandas.pydata.org/docs/reference/api/pandas.DataFrame.std.html)<br/><br/>\n"
   ]
  },
  {
   "cell_type": "code",
   "execution_count": 23,
   "metadata": {},
   "outputs": [
    {
     "name": "stdout",
     "output_type": "stream",
     "text": [
      "The variable sepal length can be summarised by the following statistics.\n",
      "\n",
      "Count: 150 \n",
      "Sum: 876.5 \n",
      "Min: 4.3 \n",
      "Maximum: 7.9 \n",
      "Mean: 5.843333333333334 \n",
      "Median: 5.8 \n",
      "Standard Deviation: 0.8280661279778629\n"
     ]
    }
   ],
   "source": [
    "count_data = df[\"sepal_length\"].count() \n",
    "sum_data = df[\"sepal_length\"].sum() \n",
    "min_data = df[\"sepal_length\"].min() \n",
    "max_data = df[\"sepal_length\"].max() \n",
    "mean_data = df[\"sepal_length\"].mean() \n",
    "median_data = df[\"sepal_length\"].median() \n",
    "std_data = df[\"sepal_length\"].std()\n",
    "  \n",
    "print(\"The variable sepal length can be summarised by the following statistics.\")\n",
    "\n",
    "print (\"\\nCount:\", count_data, \"\\nSum:\",sum_data, \"\\nMin:\", min_data, \"\\nMaximum:\", max_data, \"\\nMean:\", \n",
    "       mean_data, \"\\nMedian:\",median_data, \"\\nStandard Deviation:\", std_data) "
   ]
  },
  {
   "cell_type": "code",
   "execution_count": 24,
   "metadata": {},
   "outputs": [
    {
     "name": "stdout",
     "output_type": "stream",
     "text": [
      "The variable sepal width can be summarised by the following statistics.\n",
      "\n",
      "Count: 150 \n",
      "Sum: 458.6 \n",
      "Min: 2.0 \n",
      "Maximum: 4.4 \n",
      "Mean: 3.0573333333333337 \n",
      "Median: 3.0 \n",
      "Standard Deviation: 0.435866284936698\n"
     ]
    }
   ],
   "source": [
    "count_data = df[\"sepal_width\"].count() \n",
    "sum_data = df[\"sepal_width\"].sum() \n",
    "min_data = df[\"sepal_width\"].min() \n",
    "max_data = df[\"sepal_width\"].max() \n",
    "mean_data = df[\"sepal_width\"].mean() \n",
    "median_data = df[\"sepal_width\"].median() \n",
    "std_data = df[\"sepal_width\"].std()\n",
    "  \n",
    "print(\"The variable sepal width can be summarised by the following statistics.\")\n",
    "\n",
    "print (\"\\nCount:\", count_data, \"\\nSum:\",sum_data, \"\\nMin:\", min_data, \"\\nMaximum:\", max_data, \"\\nMean:\", \n",
    "       mean_data, \"\\nMedian:\",median_data, \"\\nStandard Deviation:\", std_data) "
   ]
  },
  {
   "cell_type": "code",
   "execution_count": 25,
   "metadata": {},
   "outputs": [
    {
     "name": "stdout",
     "output_type": "stream",
     "text": [
      "The variable petal length can be summarised by the following statistics.\n",
      "\n",
      "Count: 150 \n",
      "Sum: 563.7 \n",
      "Min: 1.0 \n",
      "Maximum: 6.9 \n",
      "Mean: 3.7580000000000005 \n",
      "Median: 4.35 \n",
      "Standard Deviation: 1.7652982332594667\n"
     ]
    }
   ],
   "source": [
    "count_data = df[\"petal_length\"].count() \n",
    "sum_data = df[\"petal_length\"].sum() \n",
    "min_data = df[\"petal_length\"].min() \n",
    "max_data = df[\"petal_length\"].max() \n",
    "mean_data = df[\"petal_length\"].mean() \n",
    "median_data = df[\"petal_length\"].median() \n",
    "std_data = df[\"petal_length\"].std()\n",
    "  \n",
    "print(\"The variable petal length can be summarised by the following statistics.\")\n",
    "\n",
    "print (\"\\nCount:\", count_data, \"\\nSum:\",sum_data, \"\\nMin:\", min_data, \"\\nMaximum:\", max_data, \"\\nMean:\", \n",
    "       mean_data, \"\\nMedian:\",median_data, \"\\nStandard Deviation:\", std_data) "
   ]
  },
  {
   "cell_type": "code",
   "execution_count": 57,
   "metadata": {},
   "outputs": [
    {
     "name": "stdout",
     "output_type": "stream",
     "text": [
      "The variable petal width can be summarised by the following statistics.\n",
      "\n",
      "Count: 150 \n",
      "Sum: 179.90000000000003 \n",
      "Min: 0.1 \n",
      "Maximum: 2.5 \n",
      "Mean: 1.1993333333333336 \n",
      "Median: 1.3 \n",
      "Standard Deviation: 0.7622376689603465\n",
      "----------\n",
      "150\n",
      "179.9\n",
      "  1.19933\n",
      "  1.3\n",
      "  0.762238\n",
      "----------\n"
     ]
    }
   ],
   "source": [
    "count_data = df[\"petal_width\"].count()\n",
    "sum_data = df[\"petal_width\"].sum() \n",
    "min_data = df[\"petal_width\"].min() \n",
    "max_data = df[\"petal_width\"].max() \n",
    "mean_data = df[\"petal_width\"].mean() \n",
    "median_data = df[\"petal_width\"].median() \n",
    "std_data = df[\"petal_width\"].std()\n",
    "  \n",
    "print(\"The variable petal width can be summarised by the following statistics.\")\n",
    "\n",
    "print (\"\\nCount:\", count_data, \"\\nSum:\",sum_data, \"\\nMin:\", min_data, \"\\nMaximum:\", max_data, \"\\nMean:\", \n",
    "       mean_data, \"\\nMedian:\",median_data, \"\\nStandard Deviation:\", std_data) \n"
   ]
  },
  {
   "cell_type": "code",
   "execution_count": 59,
   "metadata": {},
   "outputs": [
    {
     "name": "stdout",
     "output_type": "stream",
     "text": [
      "\n",
      "Count: species\n",
      "setosa        50\n",
      "versicolor    50\n",
      "virginica     50\n",
      "Name: petal_width, dtype: int64 \n",
      "Sum: species\n",
      "setosa         12.3\n",
      "versicolor     66.3\n",
      "virginica     101.3\n",
      "Name: petal_width, dtype: float64 \n",
      "Min: 0.1 \n",
      "Maximum: 2.5 \n",
      "Mean: species\n",
      "setosa        0.246\n",
      "versicolor    1.326\n",
      "virginica     2.026\n",
      "Name: petal_width, dtype: float64 \n",
      "Median: species\n",
      "setosa        0.2\n",
      "versicolor    1.3\n",
      "virginica     2.0\n",
      "Name: petal_width, dtype: float64 \n",
      "Standard Deviation: species\n",
      "setosa        0.105386\n",
      "versicolor    0.197753\n",
      "virginica     0.274650\n",
      "Name: petal_width, dtype: float64\n"
     ]
    }
   ],
   "source": [
    "from tabulate import tabulate\n",
    "\n",
    "df_grouped = df.groupby(\"species\")\n",
    "count_data = df_grouped[\"petal_width\"].count()\n",
    "sum_data = df_grouped[\"petal_width\"].sum() \n",
    "mean_data = df_grouped[\"petal_width\"].mean() \n",
    "median_data = df_grouped[\"petal_width\"].median() \n",
    "std_data = df_grouped[\"petal_width\"].std()\n",
    "\n",
    "#relevant_columns = [count_data, sum_data, mean_data, median_data, ]\n",
    "\n",
    "#print (tabulate([[count_data], [sum_data], [mean_data], [median_data], [std_data]], \n",
    "                #headers = ['Count', 'Sum', 'Mean','Median', 'Std Dev']))\n",
    "\n",
    "#print (tabulate(\"\\nCount:\", count_data, \"\\nSum:\",sum_data,\"\\nMean:\", mean_data, \"\\nMedian:\",median_data, \"\\nStandard Deviation:\", std_data) , headers=col_names, tablefmt='grid')\n",
    "print (\"\\nCount:\", count_data, \"\\nSum:\",sum_data, \"\\nMin:\", min_data, \"\\nMaximum:\", max_data, \"\\nMean:\", \n",
    "       mean_data, \"\\nMedian:\",median_data, \"\\nStandard Deviation:\", std_data) \n",
    "\n",
    "# https://laxmikants.github.io/blog/eda-with-iris-dataset/"
   ]
  },
  {
   "cell_type": "code",
   "execution_count": null,
   "metadata": {},
   "outputs": [],
   "source": []
  },
  {
   "cell_type": "markdown",
   "metadata": {},
   "source": [
    "# 4. Plotting the variables <a id=\"plot-variables\"></a>"
   ]
  },
  {
   "cell_type": "markdown",
   "metadata": {},
   "source": [
    "### Data visualisation\n",
    "\n",
    "While all of the above data is useful, plotting the data allows us to visualise it and makes it easier for the human brain to understand and pull insights from.  Visual analytics allow the user to dissect complex data, grasp big-picture information effectively as well as help with identifying patterns, trends as well as outliers in large datasets.\n"
   ]
  },
  {
   "cell_type": "code",
   "execution_count": 66,
   "metadata": {},
   "outputs": [],
   "source": [
    "# Using the matplotlib style sheets available to customise the output plots for all of the plots in this notebook\n",
    "# https://matplotlib.org/stable/gallery/style_sheets/style_sheets_reference.html\n",
    "plt.style.use('Solarize_Light2')"
   ]
  },
  {
   "cell_type": "markdown",
   "metadata": {},
   "source": [
    "As the *species* variable only has 3 possible options eith a bar chaty or a pie chart would be suitable options.  \n",
    "\n",
    "Bar charts are useful for highlighting the differences between categories or other discrete data with each bar representing a summary value for one discrete level. https://statisticsbyjim.com/graphs/bar-charts/#:~:text=Bar%20charts%20highlight%20differences%20between%20categories%20or%20other,can%20help%20you%20understand%20the%20relationship%20between%20them.\n",
    "\n",
    "Pie charts are also used to compare the sizes of categories in any given dataset but you must have a categorical variable that divides that data into groups. https://statisticsbyjim.com/graphs/pie-charts/"
   ]
  },
  {
   "cell_type": "code",
   "execution_count": 67,
   "metadata": {},
   "outputs": [
    {
     "data": {
      "image/png": "[encoded data removed]",
      "text/plain": [
       "<Figure size 640x480 with 1 Axes>"
      ]
     },
     "metadata": {},
     "output_type": "display_data"
    }
   ],
   "source": [
    "ax = sns.countplot(x='species',  data=df)\n",
    "plt.title('Species Count in Iris Dataset')\n",
    "for container in ax.containers:\n",
    "    ax.bar_label(container)"
   ]
  },
  {
   "cell_type": "code",
   "execution_count": 71,
   "metadata": {},
   "outputs": [
    {
     "data": {
      "image/png": "[encoded data removed]",
      "text/plain": [
       "<Figure size 700x700 with 1 Axes>"
      ]
     },
     "metadata": {},
     "output_type": "display_data"
    }
   ],
   "source": [
    "fig, ax = plt.subplots(figsize=(7,7))\n",
    "\n",
    "# plot the pie chart of the sex variable in the dataset\n",
    "species = df['species'].value_counts()\n",
    "species.plot(kind='pie',autopct=\"%.2f%%\")\n",
    "plt.suptitle('Species Count in Iris Dataset', fontweight =\"bold\", fontsize=15)\n",
    "plt.show()"
   ]
  },
  {
   "cell_type": "code",
   "execution_count": null,
   "metadata": {},
   "outputs": [],
   "source": []
  },
  {
   "cell_type": "code",
   "execution_count": null,
   "metadata": {},
   "outputs": [],
   "source": []
  },
  {
   "cell_type": "code",
   "execution_count": null,
   "metadata": {},
   "outputs": [],
   "source": []
  },
  {
   "cell_type": "code",
   "execution_count": null,
   "metadata": {},
   "outputs": [],
   "source": []
  },
  {
   "cell_type": "code",
   "execution_count": null,
   "metadata": {},
   "outputs": [],
   "source": []
  },
  {
   "cell_type": "code",
   "execution_count": null,
   "metadata": {},
   "outputs": [],
   "source": []
  },
  {
   "cell_type": "code",
   "execution_count": null,
   "metadata": {},
   "outputs": [],
   "source": []
  },
  {
   "cell_type": "markdown",
   "metadata": {},
   "source": [
    "## Resources<a id=\"resources\"></a>\n",
    "\n",
    "\n",
    "https://www.pycodemates.com/2022/05/iris-dataset-classification-with-python.html?utm_content=cmp-true\n",
    "\n",
    "https://towardsdatascience.com/classification-basics-walk-through-with-the-iris-data-set-d46b0331bf82\n",
    "\n",
    "https://rasbt.github.io/mlxtend/user_guide/data/iris_data/\n",
    "\n",
    "https://www.geeksforgeeks.org/python-basics-of-pandas-using-iris-dataset/\n",
    "\n",
    "https://www.kaggle.com/code/sixteenpython/machine-learning-with-iris-dataset\n",
    "\n",
    "https://medium.com/@estebanthi/classification-analysis-use-case-the-iris-dataset-99b3902b708b\n",
    "\n",
    "https://scikit-learn.org/stable/auto_examples/datasets/plot_iris_dataset.html\n",
    "\n",
    "https://en.wikipedia.org/wiki/Glossary_of_probability_and_statistics#tidy_data\n",
    "\n",
    "https://www.kaggle.com/code/bharath25/descriptive-statistics-and-machine-learning-iris\n",
    "\n",
    "https://www.scribbr.com/statistics/descriptive-statistics/\n",
    "\n",
    "https://pandas.pydata.org/docs/reference/frame.html\n",
    "\n",
    "https://statisticsbyjim.com/basics/nominal-ordinal-interval-ratio-scales/\n",
    "\n",
    "https://spectrum.adobe.com/page/data-visualization-fundamentals/\n",
    "\n",
    "https://www.techtarget.com/searchbusinessanalytics/definition/data-visualization\n",
    "\n"
   ]
  },
  {
   "cell_type": "markdown",
   "metadata": {},
   "source": [
    "***\n",
    "\n",
    "## End"
   ]
  }
 ],
 "metadata": {
  "kernelspec": {
   "display_name": "base",
   "language": "python",
   "name": "python3"
  },
  "language_info": {
   "codemirror_mode": {
    "name": "ipython",
    "version": 3
   },
   "file_extension": ".py",
   "mimetype": "text/x-python",
   "name": "python",
   "nbconvert_exporter": "python",
   "pygments_lexer": "ipython3",
   "version": "3.11.4"
  }
 },
 "nbformat": 4,
 "nbformat_minor": 2
}
