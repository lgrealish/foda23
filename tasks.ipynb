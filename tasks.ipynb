{
 "cells": [
  {
   "cell_type": "markdown",
   "metadata": {},
   "source": [
    "# Fundamentals of Data Analysis Tasks\n",
    "\n",
    "**Linda Grealish**\n",
    "\n",
    "***"
   ]
  },
  {
   "cell_type": "markdown",
   "metadata": {},
   "source": [
    "## Table of contents\n",
    " * [Task 1](#task-1)\n",
    " * [Task 2](#task-2)"
   ]
  },
  {
   "cell_type": "markdown",
   "metadata": {},
   "source": [
    "## Task 1\n",
    "\n",
    "The Collatz conjecture is a famous unsolved problem in mathematics. The problem is to prove that if you start with any positive integer $x$ and repeatedly apply the function $f(x)$ below, you always get stuck in the repeating sequence 1, 4, 2, 1, 4, 2, . . .\n",
    "\n",
    "$$ f(x) = \\begin{cases}\n",
    "x\\div 2 & \\text{if $x$ is even} \\\\\n",
    "3x+1 & \\text{otherwise}\n",
    "\\end{cases} $$\n",
    "\n",
    "For example, starting with the value 10, which is an even number , we divide it by 2 to get 5.  Then 5 is an odd number so, we multiply by 3 and add 1 to get 16.  Then we repeatedly divide by 2 to get 8, 4, 2, 1. Once we are at 1, we go back to 4 and get stuck in the repeating sequence 4,2,1 as we suspected.\n",
    "\n",
    "Your task is to verify, using Python, that the conjecture is true for the first 10000 positive integers."
   ]
  },
  {
   "cell_type": "markdown",
   "metadata": {},
   "source": [
    "First we will define the function $f(x)$  that takes in a positive integer $x$.  The function checks if the integer is odd or even by using the modulo operator %.  If it is positive it divides x by 2 using floor division // and if it is odd then it returns the result of (3 * x) + 1. "
   ]
  },
  {
   "cell_type": "code",
   "execution_count": null,
   "metadata": {},
   "outputs": [],
   "source": [
    "def f(x):\n",
    "  # If x is even, divide it by 2.\n",
    "  if x % 2 == 0:\n",
    "    return x // 2\n",
    "  else:\n",
    "    return (3 * x) + 1 "
   ]
  },
  {
   "cell_type": "markdown",
   "metadata": {},
   "source": [
    "Next we will define the function collatz().  This is done with the use of a *while* loop which runs until we achieve a value of 1 and the result is a comma seperated list of numbers. This while loop contains conditional statements if and else that signify what action should happen depending on whether the number is odd or even."
   ]
  },
  {
   "cell_type": "code",
   "execution_count": null,
   "metadata": {},
   "outputs": [],
   "source": [
    "def collatz(x):\n",
    "  print(f'Testing Collatz with initial value {x}')\n",
    "  while x !=1:\n",
    "    print (x, end=', ')\n",
    "    x = f(x)\n",
    "  print(x)\n"
   ]
  },
  {
   "cell_type": "markdown",
   "metadata": {},
   "source": [
    "*collatz()* is a Python function that allow the user to input a specific integer and prints out the result as a comma seperated list.  The results of the Collatz sequence for 1000 is shown below.  This can be run for any positive integer by simply changing the value in the parenthesis below *collatz(number)*"
   ]
  },
  {
   "cell_type": "code",
   "execution_count": null,
   "metadata": {},
   "outputs": [],
   "source": [
    "collatz(1000)"
   ]
  },
  {
   "cell_type": "markdown",
   "metadata": {},
   "source": [
    "To satisfy the second part of the task we will define a function *collatz_sequence* that reads the starting integer and runs the collatz conjecture with all the results at each iteration appended to a list."
   ]
  },
  {
   "cell_type": "code",
   "execution_count": null,
   "metadata": {},
   "outputs": [],
   "source": [
    "def collatz_sequence(x):\n",
    "    sequence = [x]\n",
    "    while x != 1:\n",
    "        if x % 2 == 0:\n",
    "            x = x // 2\n",
    "        else:\n",
    "            x = 3 * x + 1\n",
    "        sequence.append(x)\n",
    "    return sequence"
   ]
  },
  {
   "cell_type": "markdown",
   "metadata": {},
   "source": [
    "The final part of this uses the *range* function which takes all of the integers between 1 and 10,000 inclusive and applies the *collatz_sequence(x)* to each integer."
   ]
  },
  {
   "cell_type": "code",
   "execution_count": null,
   "metadata": {},
   "outputs": [],
   "source": [
    "for number in range(1, 10001):\n",
    "    print(f\"collatz_sequence {number} is {collatz_sequence(number)}\")"
   ]
  },
  {
   "cell_type": "markdown",
   "metadata": {},
   "source": [
    "If we run the above code we can see that for each of the integers from 1 to 10,000 (inclusive) we can see that the Collatz Sequence is true for each integer."
   ]
  },
  {
   "cell_type": "markdown",
   "metadata": {},
   "source": [
    "***"
   ]
  },
  {
   "cell_type": "markdown",
   "metadata": {},
   "source": [
    "## Task 2\n",
    "\n",
    "Give an overview of the famous penguins data set, explaining the types of variables it contains. Suggest the types of variables that should be used to model them in Python, explaining your rationale."
   ]
  },
  {
   "cell_type": "markdown",
   "metadata": {},
   "source": [
    "Data were collected and made available by Dr. Kristen Gorman and the Palmer Station, Antarctica LTER, a member of the Long Term Ecological Research Network.\n",
    "\n",
    "The palmerpenguins package contains two datasets.\n",
    "https://github.com/mwaskom/seaborn-data/blob/master/penguins.csv\n"
   ]
  },
  {
   "cell_type": "markdown",
   "metadata": {},
   "source": [
    "<img src = https://github.com/allisonhorst/palmerpenguins/raw/main/man/figures/lter_penguins.png alt = \"Image of Palmer Penguins\""
   ]
  },
  {
   "cell_type": "code",
   "execution_count": null,
   "metadata": {},
   "outputs": [],
   "source": []
  },
  {
   "cell_type": "markdown",
   "metadata": {},
   "source": [
    "***\n",
    "## End"
   ]
  }
 ],
 "metadata": {
  "kernelspec": {
   "display_name": "base",
   "language": "python",
   "name": "python3"
  },
  "language_info": {
   "codemirror_mode": {
    "name": "ipython",
    "version": 3
   },
   "file_extension": ".py",
   "mimetype": "text/x-python",
   "name": "python",
   "nbconvert_exporter": "python",
   "pygments_lexer": "ipython3",
   "version": "3.11.4"
  }
 },
 "nbformat": 4,
 "nbformat_minor": 2
}
