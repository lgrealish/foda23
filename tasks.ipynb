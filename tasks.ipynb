{
 "cells": [
  {
   "cell_type": "markdown",
   "metadata": {},
   "source": [
    "# Fundamentals of Data Analysis Tasks\n",
    "\n",
    "**Linda Grealish**\n",
    "\n",
    "***"
   ]
  },
  {
   "cell_type": "markdown",
   "metadata": {},
   "source": [
    "## Table of contents\n",
    " * [Task 1](#task-1)\n",
    " * [Task 2](#task-2)"
   ]
  },
  {
   "cell_type": "markdown",
   "metadata": {},
   "source": [
    "## Task 1\n",
    "\n",
    "*The Collatz conjecture is a famous unsolved problem in mathematics. The problem is to prove that if you start with any positive integer $x$ and repeatedly apply the function $f(x)$ below, you always get stuck in the repeating sequence 1, 4, 2, 1, 4, 2, . . .*\n",
    "\n",
    "$$ f(x) = \\begin{cases}\n",
    "x\\div 2 & \\text{if $x$ is even} \\\\\n",
    "3x+1 & \\text{otherwise}\n",
    "\\end{cases} $$\n",
    "\n",
    "*For example, starting with the value 10, which is an even number , we divide it by 2 to get 5.  Then 5 is an odd number so, we multiply by 3 and add 1 to get 16.  Then we repeatedly divide by 2 to get 8, 4, 2, 1. Once we are at 1, we go back to 4 and get stuck in the repeating sequence 4,2,1 as we suspected.*\n",
    "\n",
    "*Your task is to verify, using Python, that the conjecture is true for the first 10000 positive integers.*"
   ]
  },
  {
   "cell_type": "markdown",
   "metadata": {},
   "source": [
    "First we will define the function $f(x)$  that takes in a positive integer $x$.  The function checks if the integer is odd or even by using the modulo operator %.  If it is positive it divides x by 2 using floor division // and if it is odd then it returns the result of (3 * x) + 1. "
   ]
  },
  {
   "cell_type": "code",
   "execution_count": null,
   "metadata": {},
   "outputs": [],
   "source": [
    "def f(x):\n",
    "  # If x is even, divide it by 2.\n",
    "  if x % 2 == 0:\n",
    "    return x // 2\n",
    "  else:\n",
    "    return (3 * x) + 1 "
   ]
  },
  {
   "cell_type": "markdown",
   "metadata": {},
   "source": [
    "Next we will define the function collatz().  This is done with the use of a *while* loop which runs until we achieve a value of 1 and the result is a comma seperated list of numbers. This while loop contains conditional statements if and else that signify what action should happen depending on whether the number is odd or even."
   ]
  },
  {
   "cell_type": "code",
   "execution_count": null,
   "metadata": {},
   "outputs": [],
   "source": [
    "def collatz(x):\n",
    "  print(f'Testing Collatz with initial value {x}')\n",
    "  while x !=1:\n",
    "    print (x, end=', ')\n",
    "    x = f(x)\n",
    "  print(x)\n"
   ]
  },
  {
   "cell_type": "markdown",
   "metadata": {},
   "source": [
    "*collatz()* is a Python function that allow the user to input a specific integer and prints out the result as a comma seperated list.  The results of the Collatz sequence for 1000 is shown below.  This can be run for any positive integer by simply changing the value in the parenthesis below *collatz(number)*"
   ]
  },
  {
   "cell_type": "code",
   "execution_count": null,
   "metadata": {},
   "outputs": [],
   "source": [
    "collatz(1000)"
   ]
  },
  {
   "cell_type": "markdown",
   "metadata": {},
   "source": [
    "To satisfy the second part of the task we will define a function *collatz_sequence* that reads the starting integer and runs the collatz conjecture with all the results at each iteration appended to a list."
   ]
  },
  {
   "cell_type": "code",
   "execution_count": null,
   "metadata": {},
   "outputs": [],
   "source": [
    "def collatz_sequence(x):\n",
    "    sequence = [x]\n",
    "    while x != 1:\n",
    "        if x % 2 == 0:\n",
    "            x = x // 2\n",
    "        else:\n",
    "            x = 3 * x + 1\n",
    "        sequence.append(x)\n",
    "    return sequence"
   ]
  },
  {
   "cell_type": "markdown",
   "metadata": {},
   "source": [
    "The final part of this uses the *range* function which takes all of the integers between 1 and 10,000 inclusive and applies the *collatz_sequence(x)* to each integer."
   ]
  },
  {
   "cell_type": "code",
   "execution_count": null,
   "metadata": {},
   "outputs": [],
   "source": [
    "for number in range(1, 10001):\n",
    "    print(f\"collatz_sequence {number} is {collatz_sequence(number)}\")"
   ]
  },
  {
   "cell_type": "markdown",
   "metadata": {},
   "source": [
    "If we run the above code we can see that for each of the integers from 1 to 10,000 (inclusive) we can see that the Collatz Sequence is true for each integer."
   ]
  },
  {
   "cell_type": "markdown",
   "metadata": {},
   "source": [
    "***"
   ]
  },
  {
   "cell_type": "markdown",
   "metadata": {},
   "source": [
    "## Task 2\n",
    "\n",
    "*Give an overview of the famous penguins data set, explaining the types of variables it contains. Suggest the types of variables that should be used to model them in Python, explaining your rationale.*"
   ]
  },
  {
   "cell_type": "markdown",
   "metadata": {},
   "source": [
    "### History and Overview of the dataset\n",
    "\n",
    "Data were collected and made available by Dr. Kristen Gorman and the Palmer Station, Antarctica LTER, a member of the Long Term Ecological Research Network.\n",
    "\n",
    "The rigorous study was conducted in the islands of the Palmer Archipelago, Antarctica. These data were collected from 2007 to 2009 by Dr. Kristen Gorman with the Palmer Station Long Term Ecological Research Program, part of the US Long Term Ecological Research Network.\n",
    "\n",
    "The dataset comprises various measurements of the three different pengion species, *Adelie, Gentoo and Chinstrap*.\n",
    "\n",
    "<img src = https://github.com/allisonhorst/palmerpenguins/raw/main/man/figures/lter_penguins.png alt = \"Image of Palmer Penguins\">\n",
    "\n",
    "### Columns in the dataset\n",
    "\n",
    "The dataset contains 344 rows and 7 columns. The columns in the dataset are:\n",
    "\n",
    "- **species:**           The species of the penguin (Adelie, Gentoo, or Chinstrap)\n",
    "- **island:**            The island where the penguin was observed (Biscoe, Dream, or Torgersen)\n",
    "- **bill_length_mm:**    The length of the penguin’s bill in millimeters\n",
    "- **bill_length_mm:**     The length of the penguin’s bill in millimeters\n",
    "- **flipper_length_mm:** The length of the penguin’s flipper in millimeters\n",
    "- **body_mass_g:**       The body mass of the penguin in grams\n",
    "- **sex:**               The sex of the penguin (male or female)\n",
    "\n",
    "### Types of Variables Explained\n",
    "\n",
    "<img src = Images/variable_type_infographic.PNG alt = \"Data Types Infographic\">\n",
    "\n",
    "A variable is a characteristic that can be measured and that can assume different values. Height, age, income, province or country of birth, grades obtained at school and type of housing are all examples of variables. Understanding the types of variables in a dataset is crucial for performing appropriate analyses and choosing suitable machine learning algorithms for prediction tasks. Different types of variables require different statistical methods and visualization techniques for analysis.  Variables may be classified into two main categories: categorical and numeric. Each category is then classified in two subcategories: nominal or ordinal for categorical variables, discrete or continuous for numeric variables. \n",
    "\n",
    "A categorical variable (also called qualitative variable) refers to a characteristic that can’t be quantifiable. Categorical variables can be either nominal or ordinal.\n",
    "\n",
    "  - A nominal variable is one that describes a name, label or category without natural order. Sex and type of dwelling are examples of nominal variables.\n",
    "\n",
    "  - An ordinal variable is a variable whose values are defined by an order relation between the different categories.\n",
    "\n",
    "A numeric or quantative variable is a quantifiable characteristic whose values are numbers.  These variables can be either continous or discrete.\n",
    "\n",
    "  - A continous variable is one that can assume an infinite number of real values within a given interval.  Continous variables can be further categorised as either interval or ratio variables with one of the key differences being that a ration has a defined zero point.\n",
    "\n",
    "  - A discrete variable can assume only a finite number of real values within a given interval.\n",
    "\n",
    "\n",
    "https://www150.statcan.gc.ca/n1/edu/power-pouvoir/ch8/5214817-eng.htm \n",
    "\n",
    "### Types of Variables in the Penguin Dataset\n",
    "\n",
    "#### Numeric Variables:\n",
    "\n",
    "- **bill_length_mm**: Numeric variable representing the length of the penguin's bill in millimeters. It is a continuous variable, meaning it can take any numerical value within a certain range.\n",
    "- **bill_length_mm**: Numeric variable representing the length of the penguin's bill in millimeters. Like bill length, it is a continuous variable.\n",
    "- **flipper_length_mm**: Numeric variable indicating the length of the penguin's flipper in millimeters. This is also a continuous variable.\n",
    "- **body_mass_g**: Numeric variable representing the body mass of the penguin in grams. It is a continuous variable.\n",
    "\n",
    "As each of these continous variables have a defined zero point, i.e. none of these measurements can have a value below zero they can be further categorised as a ratio variable.\n",
    "\n",
    "#### Categorical Variables:\n",
    "\n",
    "- **species**: Categorical variable indicating the species of the penguin. There are three species in the dataset: Adelie, Chinstrap, and Gentoo. This is a nominal categorical variable, meaning there is no inherent order between the categories.\n",
    "**island**: Categorical variable representing the island where the penguins were observed. The dataset includes three islands: Biscoe, Dream, and Torgersen. This is also a nominal categorical variable.\n",
    "**sex**: Categorical variable indicating the gender of the penguin. There are two categories: Male and Female. This is a nominal categorical variable as well.\n",
    "\n",
    "The 3 categorical variables in the Penguin dataset can be classed as nominal because there is no inherent or ranking among them.  The categories are distinct and do not have meaningful numerical value or hierarchy associated wih them. "
   ]
  },
  {
   "cell_type": "code",
   "execution_count": null,
   "metadata": {},
   "outputs": [],
   "source": [
    "import pandas as pd"
   ]
  },
  {
   "cell_type": "code",
   "execution_count": null,
   "metadata": {},
   "outputs": [],
   "source": [
    "url ='https://raw.githubusercontent.com/mwaskom/seaborn-data/master/penguins.csv'\n",
    "\n",
    "penguins = pd.read_csv(url)"
   ]
  },
  {
   "cell_type": "code",
   "execution_count": null,
   "metadata": {},
   "outputs": [],
   "source": [
    "# The code below displays an overview of the penguin dataset with the datatypes assigned for each of \n",
    "# the columns.  We can see that the 3 categorical variables have been assigned as an object datatype\n",
    "# and the 4 numerical variables have been assigned as an object datatype. \n",
    "print(penguins.info())"
   ]
  },
  {
   "cell_type": "code",
   "execution_count": null,
   "metadata": {},
   "outputs": [],
   "source": [
    "penguins.head()"
   ]
  },
  {
   "cell_type": "markdown",
   "metadata": {},
   "source": [
    "## Conclusion\n",
    "\n",
    "Based on my research and understanding of the types of variables commonly used in statistical analysis I conclude that the following variable types are the most appropriate for the variables in the penguin dataset.\n",
    "\n",
    "Nominal   = species, island and sex \n",
    "\n",
    "Continous (Ratio)     = bill_length_mm,bill_depth_mm,flipper_length_mm,body_mass_g \n",
    "\n",
    "#### Python Variable Type\n",
    "\n",
    "Those nominal data types listed above species, island and sex should be modelled in python as *strings* as they are text values.\n",
    "\n",
    "The continuous numeric values above should be modelled in python as *floats* as they are numerical floating point numbers."
   ]
  },
  {
   "cell_type": "markdown",
   "metadata": {},
   "source": [
    "### Resources\n",
    "\n",
    "https://en.wikipedia.org/wiki/Continuous_or_discrete_variable\n",
    " \n",
    "https://www150.statcan.gc.ca/n1/edu/power-pouvoir/ch8/5214817-eng.htm\n",
    "\n",
    "https://articles.outlier.org/discrete-vs-continuous-variables\n",
    "\n",
    "https://articles.outlier.org/discrete-vs-continuous-variables\n",
    "\n",
    "https://www.scribbr.com/statistics/levels-of-measurement/\n",
    "\n",
    "https://statistics.laerd.com/statistical-guides/types-of-variable.php#:~:text=Continuous%20variables%20can%20be%20further,in%20degrees%20Celsius%20or%20Fahrenheit).\n"
   ]
  },
  {
   "cell_type": "markdown",
   "metadata": {},
   "source": [
    "***"
   ]
  },
  {
   "cell_type": "markdown",
   "metadata": {},
   "source": [
    "## Task 3\n",
    "\n",
    "For each of the variables in the penguins data set, suggest what probability distribution from the numpy random distributions list is the most appropriate to model the variable."
   ]
  },
  {
   "cell_type": "markdown",
   "metadata": {},
   "source": [
    "https://www.kaggle.com/code/tirendazacademy/penguin-dataset-data-visualization-with-seaborn\n",
    "\n",
    "https://en.wikipedia.org/wiki/Probability_distribution\n",
    "\n",
    "https://www.kaggle.com/code/mohamedharris/how-to-classify-penguins-a-beginner-s-guide\n",
    "\n"
   ]
  },
  {
   "cell_type": "code",
   "execution_count": null,
   "metadata": {},
   "outputs": [],
   "source": [
    "import pandas as pd\n",
    "import numpy as np\n",
    "import matplotlib.pyplot as plt\n",
    "import seaborn as sns\n",
    "\n"
   ]
  },
  {
   "cell_type": "code",
   "execution_count": null,
   "metadata": {},
   "outputs": [],
   "source": [
    "# Code to read in the penguin dataset from a url.\n",
    "url ='https://raw.githubusercontent.com/mwaskom/seaborn-data/master/penguins.csv'\n",
    "\n",
    "penguins = pd.read_csv(url)"
   ]
  },
  {
   "cell_type": "code",
   "execution_count": null,
   "metadata": {},
   "outputs": [],
   "source": [
    "# defining the three different species \n",
    "peng_ad = penguins[penguins.species == \"Adelie\"]\n",
    "peng_ch = penguins[penguins.species == \"Chinstrap\"]\n",
    "peng_ge = penguins[penguins.species == \"Gentoo\"]"
   ]
  },
  {
   "cell_type": "code",
   "execution_count": null,
   "metadata": {},
   "outputs": [],
   "source": [
    "sns.countplot(x='species',data=penguins)\n",
    "plt.title('Frequency of Three Species')\n",
    "# giving X and Y labels\n",
    "plt.xlabel(\"Species\")\n",
    "plt.ylabel(\"Count\")\n",
    "plt.legend(['All Species'])\n",
    "plt.show()"
   ]
  },
  {
   "cell_type": "code",
   "execution_count": null,
   "metadata": {},
   "outputs": [],
   "source": [
    "# Plot a histogram of island.\n",
    "plt.figure(figsize = (10,6))\n",
    "sns.histplot(peng_ad[\"island\"],  kde = False, label = \"Adelie\", color = \"lightblue\", )\n",
    "sns.histplot(peng_ch[\"island\"],  kde = False, label = \"Chinstrap\", color = \"lightslategray\")\n",
    "sns.histplot(peng_ge[\"island\"],  kde = False, label = \"Gentoo\", color = \"steelblue\")\n",
    "plt.title(\"Island Distribution\", size = 20)\n",
    "\n",
    "plt.xlabel(\"Island\", size = 16)\n",
    "plt.ylabel(\"Frequency\", size = 16)\n",
    "plt.legend()\n",
    "#plt.savefig(\"island.png\")\n",
    "plt.show()"
   ]
  },
  {
   "cell_type": "code",
   "execution_count": null,
   "metadata": {},
   "outputs": [],
   "source": [
    "# Generate histplots for the island distribution by species\n",
    "\n",
    "# set up the subplots, style and palette\n",
    "sns.set(style=\"ticks\", palette=\"colorblind\")\n",
    "f,axes=plt.subplots(1,3, figsize=(10,6))\n",
    "# plot the distributions of each of the main variables.\n",
    "sns.histplot(peng_ad[\"island\"],  kde = True, label = \"Adelie\", ax=axes[0], color = \"lightblue\");\n",
    "axes[0].set_title(\"Island Adelie\"); plt.legend(['Adelie']);\n",
    "sns.histplot(peng_ch[\"island\"],  kde = True, label = \"Chinstrap\", ax=axes[1], color = \"lightslategray\");\n",
    "axes[1].set_title(\"Island Chinstrap\");\n",
    "sns.histplot(peng_ge[\"island\"],  kde = True, label = \"Gentoo\", ax=axes[2], color = \"steelblue\")\n",
    "axes[2].set_title(\"Island Gentoo\");\n",
    "\n",
    "plt.legend()\n",
    "plt.tight_layout();"
   ]
  },
  {
   "cell_type": "code",
   "execution_count": null,
   "metadata": {},
   "outputs": [],
   "source": [
    "# Plot a histogram of bill_length_mm.\n",
    "plt.figure(figsize = (10,6))\n",
    "sns.histplot(peng_ad[\"bill_length_mm\"],  kde = False, label = \"Adelie\", color = \"lightblue\", )\n",
    "sns.histplot(peng_ch[\"bill_length_mm\"],  kde = False, label = \"Chinstrap\", color = \"lightslategray\")\n",
    "sns.histplot(peng_ge[\"bill_length_mm\"],  kde = False, label = \"Gentoo\", color = \"steelblue\")\n",
    "plt.title(\"Bill Length in mm\", size = 20)\n",
    "\n",
    "plt.xlabel(\"Bill length (mm)\", size = 16)\n",
    "plt.ylabel(\"Frequency\", size = 16)\n",
    "plt.legend()\n",
    "#plt.savefig(\"bill_length.png\")\n",
    "plt.show()"
   ]
  },
  {
   "cell_type": "code",
   "execution_count": null,
   "metadata": {},
   "outputs": [],
   "source": [
    "# Generate histplots for the bill length by species\n",
    "\n",
    "# set up the subplots, style and palette\n",
    "sns.set(style=\"ticks\", palette=\"colorblind\")\n",
    "f,axes=plt.subplots(1,3, figsize=(10,6))\n",
    "# plot the distributions of each of the main variables.\n",
    "sns.histplot(peng_ad[\"bill_length_mm\"],  kde = True, label = \"Adelie\", ax=axes[0], color = \"lightblue\");\n",
    "axes[0].set_title(\"Bill Length Adelie\"); plt.legend(['Adelie']);\n",
    "sns.histplot(peng_ch[\"bill_length_mm\"],  kde = True, label = \"Chinstrap\", ax=axes[1], color = \"lightslategray\");\n",
    "axes[1].set_title(\"Bill Length Chinstrap\");\n",
    "sns.histplot(peng_ge[\"bill_length_mm\"],  kde = True, label = \"Gentoo\", ax=axes[2], color = \"steelblue\")\n",
    "axes[2].set_title(\"Bill Length Gentoo\");\n",
    "\n",
    "plt.legend()\n",
    "plt.tight_layout();"
   ]
  },
  {
   "cell_type": "code",
   "execution_count": null,
   "metadata": {},
   "outputs": [],
   "source": [
    "# Plot a histogram of bill_depth_mm.\n",
    "plt.figure(figsize = (10,6))\n",
    "sns.histplot(peng_ad[\"bill_depth_mm\"],  kde = False, label = \"Adelie\", color = \"lightblue\", )\n",
    "sns.histplot(peng_ch[\"bill_depth_mm\"],  kde = False, label = \"Chinstrap\", color = \"lightslategray\")\n",
    "sns.histplot(peng_ge[\"bill_depth_mm\"],  kde = False, label = \"Gentoo\", color = \"steelblue\")\n",
    "plt.title(\"Bill Depth in mm\", size = 20)\n",
    "\n",
    "plt.xlabel(\"Bill depth (mm)\", size = 16)\n",
    "plt.ylabel(\"Frequency\", size = 16)\n",
    "plt.legend()\n",
    "#plt.savefig(\"bill_depth.png\")\n",
    "plt.show()"
   ]
  },
  {
   "cell_type": "code",
   "execution_count": null,
   "metadata": {},
   "outputs": [],
   "source": [
    "# Generate histplots for the bill depth by species\n",
    "\n",
    "# set up the subplots, style and palette\n",
    "sns.set(style=\"ticks\", palette=\"colorblind\")\n",
    "f,axes=plt.subplots(1,3, figsize=(10,6))\n",
    "# plot the distributions of each of the main variables.\n",
    "sns.histplot(peng_ad[\"bill_depth_mm\"],  kde = True, label = \"Adelie\", ax=axes[0], color = \"lightblue\");\n",
    "axes[0].set_title(\"Bill Depth Adelie\"); plt.legend(['Adelie']);\n",
    "sns.histplot(peng_ch[\"bill_depth_mm\"],  kde = True, label = \"Chinstrap\", ax=axes[1], color = \"lightslategray\");\n",
    "axes[1].set_title(\"Bill Depth Chinstrap\");\n",
    "sns.histplot(peng_ge[\"bill_depth_mm\"],  kde = True, label = \"Gentoo\", ax=axes[2], color = \"steelblue\")\n",
    "axes[2].set_title(\"Bill Depth Gentoo\");\n",
    "\n",
    "plt.legend()\n",
    "plt.tight_layout();"
   ]
  },
  {
   "cell_type": "code",
   "execution_count": null,
   "metadata": {},
   "outputs": [],
   "source": [
    "# Plot a histogram of flipper_length_mm.\n",
    "plt.figure(figsize = (10,6))\n",
    "sns.histplot(peng_ad[\"flipper_length_mm\"],  kde = False, label = \"Adelie\", color = \"lightblue\", )\n",
    "sns.histplot(peng_ch[\"flipper_length_mm\"],  kde = False, label = \"Chinstrap\", color = \"lightslategray\")\n",
    "sns.histplot(peng_ge[\"flipper_length_mm\"],  kde = False, label = \"Gentoo\", color = \"steelblue\")\n",
    "plt.title(\"Flipper Length in mm\", size = 20)\n",
    "\n",
    "plt.xlabel(\"Flipper Length (mm)\", size = 16)\n",
    "plt.ylabel(\"Frequency\", size = 16)\n",
    "plt.legend()\n",
    "#plt.savefig(\"flipper_length.png\")\n",
    "plt.show()"
   ]
  },
  {
   "cell_type": "code",
   "execution_count": null,
   "metadata": {},
   "outputs": [],
   "source": [
    "# Generate histplots for the flipper length by species\n",
    "\n",
    "# set up the subplots, style and palette\n",
    "sns.set(style=\"ticks\", palette=\"colorblind\")\n",
    "f,axes=plt.subplots(1,3, figsize=(10,6))\n",
    "# plot the distributions of each of the main variables.\n",
    "sns.histplot(peng_ad[\"flipper_length_mm\"],  kde = True, label = \"Adelie\", ax=axes[0], color = \"lightblue\");\n",
    "axes[0].set_title(\"Flipper Length Adelie\"); plt.legend(['Adelie']);\n",
    "sns.histplot(peng_ch[\"flipper_length_mm\"],  kde = True, label = \"Chinstrap\", ax=axes[1], color = \"lightslategray\");\n",
    "axes[1].set_title(\"Flipper Length Chinstrap\");\n",
    "sns.histplot(peng_ge[\"flipper_length_mm\"],  kde = True, label = \"Gentoo\", ax=axes[2], color = \"steelblue\")\n",
    "axes[2].set_title(\"Flipper Length Gentoo\");\n",
    "\n",
    "plt.legend()\n",
    "plt.tight_layout();"
   ]
  },
  {
   "cell_type": "code",
   "execution_count": null,
   "metadata": {},
   "outputs": [],
   "source": [
    "# Plot a histogram of body_mass_g.\n",
    "plt.figure(figsize = (10,6))\n",
    "sns.histplot(peng_ad[\"body_mass_g\"],  kde = False, label = \"Adelie\", color = \"lightblue\", )\n",
    "sns.histplot(peng_ch[\"body_mass_g\"],  kde = False, label = \"Chinstrap\", color = \"lightslategray\")\n",
    "sns.histplot(peng_ge[\"body_mass_g\"],  kde = False, label = \"Gentoo\", color = \"steelblue\")\n",
    "plt.title(\"Flipper Length in mm\", size = 20)\n",
    "\n",
    "plt.xlabel(\"Body Mass (g)\", size = 16)\n",
    "plt.ylabel(\"Frequency\", size = 16)\n",
    "plt.legend()\n",
    "#plt.savefig(\"body_mass_g.png\")\n",
    "plt.show()"
   ]
  },
  {
   "cell_type": "code",
   "execution_count": null,
   "metadata": {},
   "outputs": [],
   "source": [
    "# Generate histplots for the body mass by species\n",
    "\n",
    "# set up the subplots, style and palette\n",
    "sns.set(style=\"ticks\", palette=\"colorblind\")\n",
    "f,axes=plt.subplots(1,3, figsize=(10,6))\n",
    "# plot the distributions of each of the main variables.\n",
    "sns.histplot(peng_ad[\"body_mass_g\"],  kde = True, label = \"Adelie\", ax=axes[0], color = \"lightblue\");\n",
    "axes[0].set_title(\"Body Mass Adelie\"); plt.legend(['Adelie']);\n",
    "sns.histplot(peng_ch[\"body_mass_g\"],  kde = True, label = \"Chinstrap\", ax=axes[1], color = \"lightslategray\");\n",
    "axes[1].set_title(\"Body Mass Chinstrap\");\n",
    "sns.histplot(peng_ge[\"body_mass_g\"],  kde = True, label = \"Gentoo\", ax=axes[2], color = \"steelblue\")\n",
    "axes[2].set_title(\"Body Mass Gentoo\");\n",
    "\n",
    "plt.legend()\n",
    "plt.tight_layout();"
   ]
  },
  {
   "cell_type": "code",
   "execution_count": null,
   "metadata": {},
   "outputs": [],
   "source": [
    "# Plot a histogram of sex.\n",
    "plt.figure(figsize = (10,6))\n",
    "sns.histplot(peng_ad[\"sex\"],  kde = False, label = \"Adelie\", color = \"lightblue\", )\n",
    "sns.histplot(peng_ch[\"sex\"],  kde = False, label = \"Chinstrap\", color = \"lightslategray\")\n",
    "sns.histplot(peng_ge[\"sex\"],  kde = False, label = \"Gentoo\", color = \"steelblue\")\n",
    "plt.title(\"Sex Observed\", size = 20)\n",
    "\n",
    "plt.xlabel(\"Sex\", size = 16)\n",
    "plt.ylabel(\"Frequency\", size = 16)\n",
    "plt.legend()\n",
    "#plt.savefig(\"body_mass_g.png\")\n",
    "plt.show()"
   ]
  },
  {
   "cell_type": "code",
   "execution_count": null,
   "metadata": {},
   "outputs": [],
   "source": [
    "# Generate histplots for the sex distribution by species\n",
    "\n",
    "# set up the subplots, style and palette\n",
    "sns.set(style=\"ticks\", palette=\"colorblind\")\n",
    "f,axes=plt.subplots(1,3, figsize=(10,6))\n",
    "# plot the distributions of each of the main variables.\n",
    "sns.histplot(peng_ad[\"sex\"],  kde = True, label = \"Adelie\", ax=axes[0], color = \"lightblue\");\n",
    "axes[0].set_title(\"Sex Adelie\"); plt.legend(['Adelie']);\n",
    "sns.histplot(peng_ch[\"sex\"],  kde = True, label = \"Chinstrap\", ax=axes[1], color = \"lightslategray\");\n",
    "axes[1].set_title(\"Sex Chinstrap\");\n",
    "sns.histplot(peng_ge[\"sex\"],  kde = True, label = \"Gentoo\", ax=axes[2], color = \"steelblue\")\n",
    "axes[2].set_title(\"Sex Gentoo\");\n",
    "\n",
    "plt.legend()\n",
    "plt.tight_layout();"
   ]
  },
  {
   "cell_type": "markdown",
   "metadata": {},
   "source": [
    "***\n",
    "## End"
   ]
  }
 ],
 "metadata": {
  "kernelspec": {
   "display_name": "base",
   "language": "python",
   "name": "python3"
  },
  "language_info": {
   "codemirror_mode": {
    "name": "ipython",
    "version": 3
   },
   "file_extension": ".py",
   "mimetype": "text/x-python",
   "name": "python",
   "nbconvert_exporter": "python",
   "pygments_lexer": "ipython3",
   "version": "3.11.4"
  }
 },
 "nbformat": 4,
 "nbformat_minor": 2
}
